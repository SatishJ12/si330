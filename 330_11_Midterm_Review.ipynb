{
 "cells": [
  {
   "cell_type": "markdown",
   "metadata": {},
   "source": [
    "200 points total\n",
    " - no instant messages\n",
    " - yes, google, labs, hw, and stackoverflow "
   ]
  },
  {
   "cell_type": "markdown",
   "metadata": {},
   "source": [
    "1. (20 points) Basic Pandas\n",
    " - create DF\n",
    " - universal function"
   ]
  },
  {
   "cell_type": "markdown",
   "metadata": {},
   "source": [
    "2. (25 points) Loading Data\n",
    " - load csv, seperators (Amazon dataset)\n",
    "      - filter\n",
    "           - isolate all entries with x characteristic"
   ]
  },
  {
   "cell_type": "markdown",
   "metadata": {},
   "source": [
    "3. (25 points) Join/Combine\n",
    " - merge"
   ]
  },
  {
   "cell_type": "markdown",
   "metadata": {},
   "source": [
    "4. Groupby\n",
    " - (25 points) group by\n",
    " - (25 points) pivot_table (columns, index, aggfunc)\n",
    "      - with skeleton code"
   ]
  },
  {
   "cell_type": "markdown",
   "metadata": {},
   "source": [
    "5. (30 points) Efficiency\n",
    " - line profiler and timeit\n",
    " - give 3 examples implementation\n",
    "     - which one is most efficient"
   ]
  },
  {
   "cell_type": "markdown",
   "metadata": {},
   "source": [
    "6. (30 points) Spacy\n",
    " - how many words that aren't stopwords are in the text\n",
    "     - how to filter words stopwords and/or POS using token.text"
   ]
  },
  {
   "cell_type": "markdown",
   "metadata": {},
   "source": [
    "7. (20 points) Parson Problems\n",
    " - code flow"
   ]
  }
 ],
 "metadata": {
  "kernelspec": {
   "display_name": "Python 3",
   "language": "python",
   "name": "python3"
  },
  "language_info": {
   "codemirror_mode": {
    "name": "ipython",
    "version": 3
   },
   "file_extension": ".py",
   "mimetype": "text/x-python",
   "name": "python",
   "nbconvert_exporter": "python",
   "pygments_lexer": "ipython3",
   "version": "3.6.8"
  }
 },
 "nbformat": 4,
 "nbformat_minor": 2
}
