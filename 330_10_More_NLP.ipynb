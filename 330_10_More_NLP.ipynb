{
 "cells": [
  {
   "cell_type": "markdown",
   "metadata": {},
   "source": [
    "# SI 330: Data Manipulation \n",
    "## 10 - More Natural Language Processing\n",
    "\n",
    "### Dr. Chris Teplovs, School of Information, University of Michigan\n",
    "<small><a rel=\"license\" href=\"http://creativecommons.org/licenses/by-nc-sa/4.0/\"><img alt=\"Creative Commons License\" style=\"border-width:0\" src=\"https://i.creativecommons.org/l/by-nc-sa/4.0/88x31.png\" /></a>This work is licensed under a <a rel=\"license\" href=\"http://creativecommons.org/licenses/by-nc-sa/4.0/\">Creative Commons Attribution-NonCommercial-ShareAlike 4.0 International License</a>."
   ]
  },
  {
   "cell_type": "markdown",
   "metadata": {
    "toc-hr-collapsed": false
   },
   "source": [
    "# Why learn NLP?\n",
    "- Natural language = human language\n",
    "- We use language to learn about the world\n",
    "- How machines understand human langauge?\n",
    "- How can we quantify the meaning of language?"
   ]
  },
  {
   "cell_type": "markdown",
   "metadata": {},
   "source": [
    "## Applications?\n",
    "- Probabily any service that uses text as information\n",
    "- Search engine, SNS\n",
    "    - What's the document about?\n",
    "    - How do you determine the similarity?\n",
    "- Virtual assistants: Alexa, Google Assistant, Cortana, etc. \n",
    "    - Understand the semantic information from your speech from parsed text\n",
    "- Biology, genetics\n",
    "    - Genetic information / DNA sequence as text\n",
    "    - Draw networks of proteins/molecules from vast amount of scientific papers "
   ]
  },
  {
   "cell_type": "markdown",
   "metadata": {},
   "source": [
    "# Outline for today\n",
    "- ```spaCy```\n",
    "    - Cleaning the data\n",
    "    - Extracting linguistic features\n",
    "- ```Word2Vec``` (if we have time)\n",
    "    - Vector representation of words\n",
    "    - Word similarities\n",
    "    - Vector algebra for semantics"
   ]
  },
  {
   "cell_type": "code",
   "execution_count": 1,
   "metadata": {},
   "outputs": [],
   "source": [
    "import pandas as pd\n",
    "import numpy as np\n",
    "import re\n",
    "import seaborn as sns\n",
    "import matplotlib.pyplot as plt\n",
    "%matplotlib inline"
   ]
  },
  {
   "cell_type": "markdown",
   "metadata": {},
   "source": [
    "# spaCy?"
   ]
  },
  {
   "cell_type": "markdown",
   "metadata": {},
   "source": [
    "- Fast, and extensible NLP package for Python\n",
    "- <https://spacy.io/>"
   ]
  },
  {
   "cell_type": "code",
   "execution_count": 4,
   "metadata": {},
   "outputs": [
    {
     "name": "stdout",
     "output_type": "stream",
     "text": [
      "Collecting package metadata: done\n",
      "Solving environment: done\n",
      "\n",
      "## Package Plan ##\n",
      "\n",
      "  environment location: /anaconda3\n",
      "\n",
      "  added / updated specs:\n",
      "    - spacy\n",
      "\n",
      "\n",
      "The following packages will be downloaded:\n",
      "\n",
      "    package                    |            build\n",
      "    ---------------------------|-----------------\n",
      "    conda-4.6.4                |           py37_0         874 KB  conda-forge\n",
      "    cymem-2.0.2                |   py37h04f5b5a_0          30 KB\n",
      "    dill-0.2.9                 |           py37_0         112 KB  conda-forge\n",
      "    msgpack-numpy-0.4.3.2      |             py_0           8 KB  conda-forge\n",
      "    murmurhash-1.0.0           |   py37hfc679d8_0          16 KB  conda-forge\n",
      "    plac-0.9.6                 |             py_1          18 KB  conda-forge\n",
      "    preshed-2.0.1              |   py37h0a44026_0          63 KB\n",
      "    regex-2018.01.10           |py37h1de35cc_1000         324 KB  conda-forge\n",
      "    spacy-2.0.18               |py37h0a44026_1000        51.1 MB  conda-forge\n",
      "    thinc-6.12.1               |py37h1702cab_1000         1.3 MB  conda-forge\n",
      "    ujson-1.35                 |py37h1de35cc_1001          24 KB  conda-forge\n",
      "    ------------------------------------------------------------\n",
      "                                           Total:        53.8 MB\n",
      "\n",
      "The following NEW packages will be INSTALLED:\n",
      "\n",
      "  cymem              pkgs/main/osx-64::cymem-2.0.2-py37h04f5b5a_0\n",
      "  dill               conda-forge/osx-64::dill-0.2.9-py37_0\n",
      "  msgpack-numpy      conda-forge/noarch::msgpack-numpy-0.4.3.2-py_0\n",
      "  murmurhash         conda-forge/osx-64::murmurhash-1.0.0-py37hfc679d8_0\n",
      "  plac               conda-forge/noarch::plac-0.9.6-py_1\n",
      "  preshed            pkgs/main/osx-64::preshed-2.0.1-py37h0a44026_0\n",
      "  regex              conda-forge/osx-64::regex-2018.01.10-py37h1de35cc_1000\n",
      "  spacy              conda-forge/osx-64::spacy-2.0.18-py37h0a44026_1000\n",
      "  thinc              conda-forge/osx-64::thinc-6.12.1-py37h1702cab_1000\n",
      "  ujson              conda-forge/osx-64::ujson-1.35-py37h1de35cc_1001\n",
      "\n",
      "The following packages will be UPDATED:\n",
      "\n",
      "  conda                                        4.6.1-py37_0 --> 4.6.4-py37_0\n",
      "\n",
      "\n",
      "\n",
      "Downloading and Extracting Packages\n",
      "thinc-6.12.1         | 1.3 MB    | ##################################### | 100% \n",
      "spacy-2.0.18         | 51.1 MB   | ##################################### | 100% \n",
      "preshed-2.0.1        | 63 KB     | ##################################### | 100% \n",
      "msgpack-numpy-0.4.3. | 8 KB      | ##################################### | 100% \n",
      "dill-0.2.9           | 112 KB    | ##################################### | 100% \n",
      "murmurhash-1.0.0     | 16 KB     | ##################################### | 100% \n",
      "regex-2018.01.10     | 324 KB    | ##################################### | 100% \n",
      "cymem-2.0.2          | 30 KB     | ##################################### | 100% \n",
      "ujson-1.35           | 24 KB     | ##################################### | 100% \n",
      "conda-4.6.4          | 874 KB    | ##################################### | 100% \n",
      "plac-0.9.6           | 18 KB     | ##################################### | 100% \n",
      "Preparing transaction: done\n",
      "Verifying transaction: done\n",
      "Executing transaction: done\n"
     ]
    }
   ],
   "source": [
    "!conda install -y spacy"
   ]
  },
  {
   "cell_type": "code",
   "execution_count": 5,
   "metadata": {},
   "outputs": [],
   "source": [
    "import spacy"
   ]
  },
  {
   "cell_type": "code",
   "execution_count": 7,
   "metadata": {},
   "outputs": [
    {
     "name": "stdout",
     "output_type": "stream",
     "text": [
      "Collecting en_core_web_sm==2.0.0 from https://github.com/explosion/spacy-models/releases/download/en_core_web_sm-2.0.0/en_core_web_sm-2.0.0.tar.gz#egg=en_core_web_sm==2.0.0\n",
      "\u001b[?25l  Downloading https://github.com/explosion/spacy-models/releases/download/en_core_web_sm-2.0.0/en_core_web_sm-2.0.0.tar.gz (37.4MB)\n",
      "\u001b[K    100% |████████████████████████████████| 37.4MB 5.6MB/s \n",
      "\u001b[?25hInstalling collected packages: en-core-web-sm\n",
      "  Running setup.py install for en-core-web-sm ... \u001b[?25ldone\n",
      "\u001b[?25hSuccessfully installed en-core-web-sm-2.0.0\n",
      "\n",
      "\u001b[93m    Linking successful\u001b[0m\n",
      "    /anaconda3/lib/python3.7/site-packages/en_core_web_sm -->\n",
      "    /anaconda3/lib/python3.7/site-packages/spacy/data/en\n",
      "\n",
      "    You can now load the model via spacy.load('en')\n",
      "\n"
     ]
    }
   ],
   "source": [
    "!python -m spacy download en"
   ]
  },
  {
   "cell_type": "code",
   "execution_count": 8,
   "metadata": {},
   "outputs": [],
   "source": [
    "# loading up the language model: English\n",
    "nlp = spacy.load('en')"
   ]
  },
  {
   "cell_type": "markdown",
   "metadata": {},
   "source": [
    "# 0. Data cleaning"
   ]
  },
  {
   "cell_type": "code",
   "execution_count": 9,
   "metadata": {},
   "outputs": [],
   "source": [
    "some_text = \"\"\"Letter 1\n",
    "\n",
    "_To Mrs. Saville, England._\n",
    "\n",
    "\n",
    "St. Petersburgh, Dec. 11th, 17—.\n",
    "\n",
    "\n",
    "You will rejoice to hear that no disaster has accompanied the\n",
    "commencement of an enterprise which you have regarded with such evil\n",
    "forebodings.  I arrived here yesterday, and my first task is to assure\n",
    "my dear sister of my welfare and increasing confidence in the success\n",
    "of my undertaking.\n",
    "\n",
    "I am already far north of London, and as I walk in the streets of\n",
    "Petersburgh, I feel a cold northern breeze play upon my cheeks, which\n",
    "braces my nerves and fills me with delight.  Do you understand this\n",
    "feeling?  This breeze, which has travelled from the regions towards\n",
    "which I am advancing, gives me a foretaste of those icy climes.\n",
    "Inspirited by this wind of promise, my daydreams become more fervent\n",
    "and vivid.  I try in vain to be persuaded that the pole is the seat of\n",
    "frost and desolation; it ever presents itself to my imagination as the\n",
    "region of beauty and delight.  There, Margaret, the sun is for ever\n",
    "visible, its broad disk just skirting the horizon and diffusing a\n",
    "perpetual splendour.  There—for with your leave, my sister, I will put\n",
    "some trust in preceding navigators—there snow and frost are banished;\n",
    "and, sailing over a calm sea, we may be wafted to a land surpassing in\n",
    "wonders and in beauty every region hitherto discovered on the habitable\n",
    "globe.  Its productions and features may be without example, as the\n",
    "phenomena of the heavenly bodies undoubtedly are in those undiscovered\n",
    "solitudes.  What may not be expected in a country of eternal light?  I\n",
    "may there discover the wondrous power which attracts the needle and may\n",
    "regulate a thousand celestial observations that require only this\n",
    "voyage to render their seeming eccentricities consistent for ever.  I\n",
    "shall satiate my ardent curiosity with the sight of a part of the world\n",
    "never before visited, and may tread a land never before imprinted by\n",
    "the foot of man. These are my enticements, and they are sufficient to\n",
    "conquer all fear of danger or death and to induce me to commence this\n",
    "laborious voyage with the joy a child feels when he embarks in a little\n",
    "boat, with his holiday mates, on an expedition of discovery up his\n",
    "native river. But supposing all these conjectures to be false, you\n",
    "cannot contest the inestimable benefit which I shall confer on all\n",
    "mankind, to the last generation, by discovering a passage near the pole\n",
    "to those countries, to reach which at present so many months are\n",
    "requisite; or by ascertaining the secret of the magnet, which, if at\n",
    "all possible, can only be effected by an undertaking such as mine.\n",
    "\n",
    "These reflections have dispelled the agitation with which I began my\n",
    "letter, and I feel my heart glow with an enthusiasm which elevates me\n",
    "to heaven, for nothing contributes so much to tranquillise the mind as\n",
    "a steady purpose—a point on which the soul may fix its intellectual\n",
    "eye.  This expedition has been the favourite dream of my early years. I\n",
    "have read with ardour the accounts of the various voyages which have\n",
    "been made in the prospect of arriving at the North Pacific Ocean\n",
    "through the seas which surround the pole.  You may remember that a\n",
    "history of all the voyages made for purposes of discovery composed the\n",
    "whole of our good Uncle Thomas’ library.  My education was neglected,\n",
    "yet I was passionately fond of reading.  These volumes were my study\n",
    "day and night, and my familiarity with them increased that regret which\n",
    "I had felt, as a child, on learning that my father’s dying injunction\n",
    "had forbidden my uncle to allow me to embark in a seafaring life.\n",
    "\n",
    "These visions faded when I perused, for the first time, those poets\n",
    "whose effusions entranced my soul and lifted it to heaven.  I also\n",
    "became a poet and for one year lived in a paradise of my own creation;\n",
    "I imagined that I also might obtain a niche in the temple where the\n",
    "names of Homer and Shakespeare are consecrated.  You are well\n",
    "acquainted with my failure and how heavily I bore the disappointment.\n",
    "But just at that time I inherited the fortune of my cousin, and my\n",
    "thoughts were turned into the channel of their earlier bent.\n",
    "\n",
    "Six years have passed since I resolved on my present undertaking.  I\n",
    "can, even now, remember the hour from which I dedicated myself to this\n",
    "great enterprise.  I commenced by inuring my body to hardship.  I\n",
    "accompanied the whale-fishers on several expeditions to the North Sea;\n",
    "I voluntarily endured cold, famine, thirst, and want of sleep; I often\n",
    "worked harder than the common sailors during the day and devoted my\n",
    "nights to the study of mathematics, the theory of medicine, and those\n",
    "branches of physical science from which a naval adventurer might derive\n",
    "the greatest practical advantage.  Twice I actually hired myself as an\n",
    "under-mate in a Greenland whaler, and acquitted myself to admiration. I\n",
    "must own I felt a little proud when my captain offered me the second\n",
    "dignity in the vessel and entreated me to remain with the greatest\n",
    "earnestness, so valuable did he consider my services.\n",
    "\n",
    "And now, dear Margaret, do I not deserve to accomplish some great purpose?\n",
    "My life might have been passed in ease and luxury, but I preferred glory to\n",
    "every enticement that wealth placed in my path. Oh, that some encouraging\n",
    "voice would answer in the affirmative! My courage and my resolution is\n",
    "firm; but my hopes fluctuate, and my spirits are often depressed. I am\n",
    "about to proceed on a long and difficult voyage, the emergencies of which\n",
    "will demand all my fortitude: I am required not only to raise the spirits\n",
    "of others, but sometimes to sustain my own, when theirs are failing.\n",
    "\n",
    "This is the most favourable period for travelling in Russia.  They fly\n",
    "quickly over the snow in their sledges; the motion is pleasant, and, in\n",
    "my opinion, far more agreeable than that of an English stagecoach.  The\n",
    "cold is not excessive, if you are wrapped in furs—a dress which I have\n",
    "already adopted, for there is a great difference between walking the\n",
    "deck and remaining seated motionless for hours, when no exercise\n",
    "prevents the blood from actually freezing in your veins.  I have no\n",
    "ambition to lose my life on the post-road between St. Petersburgh and\n",
    "Archangel.\n",
    "\n",
    "I shall depart for the latter town in a fortnight or three weeks; and my\n",
    "intention is to hire a ship there, which can easily be done by paying the\n",
    "insurance for the owner, and to engage as many sailors as I think necessary\n",
    "among those who are accustomed to the whale-fishing. I do not intend to\n",
    "sail until the month of June; and when shall I return? Ah, dear sister, how\n",
    "can I answer this question? If I succeed, many, many months, perhaps years,\n",
    "will pass before you and I may meet. If I fail, you will see me again soon,\n",
    "or never.\n",
    "\n",
    "Farewell, my dear, excellent Margaret. Heaven shower down blessings on you,\n",
    "and save me, that I may again and again testify my gratitude for all your\n",
    "love and kindness.\n",
    "\n",
    "Your affectionate brother,\n",
    "\n",
    "R. Walton\"\"\""
   ]
  },
  {
   "cell_type": "markdown",
   "metadata": {},
   "source": [
    "### Section goal: calculate the frequency of each word\n",
    "- See which words are more frequent.\n",
    "- Generate more meaningful summary for the above paragraph."
   ]
  },
  {
   "cell_type": "markdown",
   "metadata": {},
   "source": [
    "## 0-1. lowering the case"
   ]
  },
  {
   "cell_type": "code",
   "execution_count": 11,
   "metadata": {},
   "outputs": [
    {
     "data": {
      "text/plain": [
       "str"
      ]
     },
     "execution_count": 11,
     "metadata": {},
     "output_type": "execute_result"
    }
   ],
   "source": [
    "type(some_text)"
   ]
  },
  {
   "cell_type": "code",
   "execution_count": 12,
   "metadata": {},
   "outputs": [
    {
     "data": {
      "text/plain": [
       "'Letter 1\\n\\n_To Mrs. Saville, England._\\n\\n\\nSt. Petersburgh, Dec. 11th, 17—.\\n\\n\\nYou will rejoice to hear that no disaster has accompanied the\\ncommencement of an enterprise which you have regarded with such evil\\nforebodings.  I arrived here yesterday, and my first task is to assure\\nmy dear sister of my welfare and increasing confidence in the success\\nof my undertaking.\\n\\nI am already far north of London, and as I walk in the streets of\\nPetersburgh, I feel a cold northern breeze play upon my cheeks, which\\nbraces my nerves and fills me with delight.  Do you understand this\\nfeeling?  This breeze, which has travelled from the regions towards\\nwhich I am advancing, gives me a foretaste of those icy climes.\\nInspirited by this wind of promise, my daydreams become more fervent\\nand vivid.  I try in vain to be persuaded that the pole is the seat of\\nfrost and desolation; it ever presents itself to my imagination as the\\nregion of beauty and delight.  There, Margaret, the sun is for ever\\nvisible, its broad disk just skirting the horizon and diffusing a\\nperpetual splendour.  There—for with your leave, my sister, I will put\\nsome trust in preceding navigators—there snow and frost are banished;\\nand, sailing over a calm sea, we may be wafted to a land surpassing in\\nwonders and in beauty every region hitherto discovered on the habitable\\nglobe.  Its productions and features may be without example, as the\\nphenomena of the heavenly bodies undoubtedly are in those undiscovered\\nsolitudes.  What may not be expected in a country of eternal light?  I\\nmay there discover the wondrous power which attracts the needle and may\\nregulate a thousand celestial observations that require only this\\nvoyage to render their seeming eccentricities consistent for ever.  I\\nshall satiate my ardent curiosity with the sight of a part of the world\\nnever before visited, and may tread a land never before imprinted by\\nthe foot of man. These are my enticements, and they are sufficient to\\nconquer all fear of danger or death and to induce me to commence this\\nlaborious voyage with the joy a child feels when he embarks in a little\\nboat, with his holiday mates, on an expedition of discovery up his\\nnative river. But supposing all these conjectures to be false, you\\ncannot contest the inestimable benefit which I shall confer on all\\nmankind, to the last generation, by discovering a passage near the pole\\nto those countries, to reach which at present so many months are\\nrequisite; or by ascertaining the secret of the magnet, which, if at\\nall possible, can only be effected by an undertaking such as mine.\\n\\nThese reflections have dispelled the agitation with which I began my\\nletter, and I feel my heart glow with an enthusiasm which elevates me\\nto heaven, for nothing contributes so much to tranquillise the mind as\\na steady purpose—a point on which the soul may fix its intellectual\\neye.  This expedition has been the favourite dream of my early years. I\\nhave read with ardour the accounts of the various voyages which have\\nbeen made in the prospect of arriving at the North Pacific Ocean\\nthrough the seas which surround the pole.  You may remember that a\\nhistory of all the voyages made for purposes of discovery composed the\\nwhole of our good Uncle Thomas’ library.  My education was neglected,\\nyet I was passionately fond of reading.  These volumes were my study\\nday and night, and my familiarity with them increased that regret which\\nI had felt, as a child, on learning that my father’s dying injunction\\nhad forbidden my uncle to allow me to embark in a seafaring life.\\n\\nThese visions faded when I perused, for the first time, those poets\\nwhose effusions entranced my soul and lifted it to heaven.  I also\\nbecame a poet and for one year lived in a paradise of my own creation;\\nI imagined that I also might obtain a niche in the temple where the\\nnames of Homer and Shakespeare are consecrated.  You are well\\nacquainted with my failure and how heavily I bore the disappointment.\\nBut just at that time I inherited the fortune of my cousin, and my\\nthoughts were turned into the channel of their earlier bent.\\n\\nSix years have passed since I resolved on my present undertaking.  I\\ncan, even now, remember the hour from which I dedicated myself to this\\ngreat enterprise.  I commenced by inuring my body to hardship.  I\\naccompanied the whale-fishers on several expeditions to the North Sea;\\nI voluntarily endured cold, famine, thirst, and want of sleep; I often\\nworked harder than the common sailors during the day and devoted my\\nnights to the study of mathematics, the theory of medicine, and those\\nbranches of physical science from which a naval adventurer might derive\\nthe greatest practical advantage.  Twice I actually hired myself as an\\nunder-mate in a Greenland whaler, and acquitted myself to admiration. I\\nmust own I felt a little proud when my captain offered me the second\\ndignity in the vessel and entreated me to remain with the greatest\\nearnestness, so valuable did he consider my services.\\n\\nAnd now, dear Margaret, do I not deserve to accomplish some great purpose?\\nMy life might have been passed in ease and luxury, but I preferred glory to\\nevery enticement that wealth placed in my path. Oh, that some encouraging\\nvoice would answer in the affirmative! My courage and my resolution is\\nfirm; but my hopes fluctuate, and my spirits are often depressed. I am\\nabout to proceed on a long and difficult voyage, the emergencies of which\\nwill demand all my fortitude: I am required not only to raise the spirits\\nof others, but sometimes to sustain my own, when theirs are failing.\\n\\nThis is the most favourable period for travelling in Russia.  They fly\\nquickly over the snow in their sledges; the motion is pleasant, and, in\\nmy opinion, far more agreeable than that of an English stagecoach.  The\\ncold is not excessive, if you are wrapped in furs—a dress which I have\\nalready adopted, for there is a great difference between walking the\\ndeck and remaining seated motionless for hours, when no exercise\\nprevents the blood from actually freezing in your veins.  I have no\\nambition to lose my life on the post-road between St. Petersburgh and\\nArchangel.\\n\\nI shall depart for the latter town in a fortnight or three weeks; and my\\nintention is to hire a ship there, which can easily be done by paying the\\ninsurance for the owner, and to engage as many sailors as I think necessary\\namong those who are accustomed to the whale-fishing. I do not intend to\\nsail until the month of June; and when shall I return? Ah, dear sister, how\\ncan I answer this question? If I succeed, many, many months, perhaps years,\\nwill pass before you and I may meet. If I fail, you will see me again soon,\\nor never.\\n\\nFarewell, my dear, excellent Margaret. Heaven shower down blessings on you,\\nand save me, that I may again and again testify my gratitude for all your\\nlove and kindness.\\n\\nYour affectionate brother,\\n\\nR. Walton'"
      ]
     },
     "execution_count": 12,
     "metadata": {},
     "output_type": "execute_result"
    }
   ],
   "source": [
    "some_text"
   ]
  },
  {
   "cell_type": "code",
   "execution_count": 14,
   "metadata": {},
   "outputs": [],
   "source": [
    "some_text_lower = some_text.lower()"
   ]
  },
  {
   "cell_type": "code",
   "execution_count": 15,
   "metadata": {},
   "outputs": [
    {
     "data": {
      "text/plain": [
       "'letter 1\\n\\n_to mrs. saville, england._\\n\\n\\nst. petersburgh, dec. 11th, 17—.\\n\\n\\nyou will rejoice to hear that no disaster has accompanied the\\ncommencement of an enterprise which you have regarded with such evil\\nforebodings.  i arrived here yesterday, and my first task is to assure\\nmy dear sister of my welfare and increasing confidence in the success\\nof my undertaking.\\n\\ni am already far north of london, and as i walk in the streets of\\npetersburgh, i feel a cold northern breeze play upon my cheeks, which\\nbraces my nerves and fills me with delight.  do you understand this\\nfeeling?  this breeze, which has travelled from the regions towards\\nwhich i am advancing, gives me a foretaste of those icy climes.\\ninspirited by this wind of promise, my daydreams become more fervent\\nand vivid.  i try in vain to be persuaded that the pole is the seat of\\nfrost and desolation; it ever presents itself to my imagination as the\\nregion of beauty and delight.  there, margaret, the sun is for ever\\nvisible, its broad disk just skirting the horizon and diffusing a\\nperpetual splendour.  there—for with your leave, my sister, i will put\\nsome trust in preceding navigators—there snow and frost are banished;\\nand, sailing over a calm sea, we may be wafted to a land surpassing in\\nwonders and in beauty every region hitherto discovered on the habitable\\nglobe.  its productions and features may be without example, as the\\nphenomena of the heavenly bodies undoubtedly are in those undiscovered\\nsolitudes.  what may not be expected in a country of eternal light?  i\\nmay there discover the wondrous power which attracts the needle and may\\nregulate a thousand celestial observations that require only this\\nvoyage to render their seeming eccentricities consistent for ever.  i\\nshall satiate my ardent curiosity with the sight of a part of the world\\nnever before visited, and may tread a land never before imprinted by\\nthe foot of man. these are my enticements, and they are sufficient to\\nconquer all fear of danger or death and to induce me to commence this\\nlaborious voyage with the joy a child feels when he embarks in a little\\nboat, with his holiday mates, on an expedition of discovery up his\\nnative river. but supposing all these conjectures to be false, you\\ncannot contest the inestimable benefit which i shall confer on all\\nmankind, to the last generation, by discovering a passage near the pole\\nto those countries, to reach which at present so many months are\\nrequisite; or by ascertaining the secret of the magnet, which, if at\\nall possible, can only be effected by an undertaking such as mine.\\n\\nthese reflections have dispelled the agitation with which i began my\\nletter, and i feel my heart glow with an enthusiasm which elevates me\\nto heaven, for nothing contributes so much to tranquillise the mind as\\na steady purpose—a point on which the soul may fix its intellectual\\neye.  this expedition has been the favourite dream of my early years. i\\nhave read with ardour the accounts of the various voyages which have\\nbeen made in the prospect of arriving at the north pacific ocean\\nthrough the seas which surround the pole.  you may remember that a\\nhistory of all the voyages made for purposes of discovery composed the\\nwhole of our good uncle thomas’ library.  my education was neglected,\\nyet i was passionately fond of reading.  these volumes were my study\\nday and night, and my familiarity with them increased that regret which\\ni had felt, as a child, on learning that my father’s dying injunction\\nhad forbidden my uncle to allow me to embark in a seafaring life.\\n\\nthese visions faded when i perused, for the first time, those poets\\nwhose effusions entranced my soul and lifted it to heaven.  i also\\nbecame a poet and for one year lived in a paradise of my own creation;\\ni imagined that i also might obtain a niche in the temple where the\\nnames of homer and shakespeare are consecrated.  you are well\\nacquainted with my failure and how heavily i bore the disappointment.\\nbut just at that time i inherited the fortune of my cousin, and my\\nthoughts were turned into the channel of their earlier bent.\\n\\nsix years have passed since i resolved on my present undertaking.  i\\ncan, even now, remember the hour from which i dedicated myself to this\\ngreat enterprise.  i commenced by inuring my body to hardship.  i\\naccompanied the whale-fishers on several expeditions to the north sea;\\ni voluntarily endured cold, famine, thirst, and want of sleep; i often\\nworked harder than the common sailors during the day and devoted my\\nnights to the study of mathematics, the theory of medicine, and those\\nbranches of physical science from which a naval adventurer might derive\\nthe greatest practical advantage.  twice i actually hired myself as an\\nunder-mate in a greenland whaler, and acquitted myself to admiration. i\\nmust own i felt a little proud when my captain offered me the second\\ndignity in the vessel and entreated me to remain with the greatest\\nearnestness, so valuable did he consider my services.\\n\\nand now, dear margaret, do i not deserve to accomplish some great purpose?\\nmy life might have been passed in ease and luxury, but i preferred glory to\\nevery enticement that wealth placed in my path. oh, that some encouraging\\nvoice would answer in the affirmative! my courage and my resolution is\\nfirm; but my hopes fluctuate, and my spirits are often depressed. i am\\nabout to proceed on a long and difficult voyage, the emergencies of which\\nwill demand all my fortitude: i am required not only to raise the spirits\\nof others, but sometimes to sustain my own, when theirs are failing.\\n\\nthis is the most favourable period for travelling in russia.  they fly\\nquickly over the snow in their sledges; the motion is pleasant, and, in\\nmy opinion, far more agreeable than that of an english stagecoach.  the\\ncold is not excessive, if you are wrapped in furs—a dress which i have\\nalready adopted, for there is a great difference between walking the\\ndeck and remaining seated motionless for hours, when no exercise\\nprevents the blood from actually freezing in your veins.  i have no\\nambition to lose my life on the post-road between st. petersburgh and\\narchangel.\\n\\ni shall depart for the latter town in a fortnight or three weeks; and my\\nintention is to hire a ship there, which can easily be done by paying the\\ninsurance for the owner, and to engage as many sailors as i think necessary\\namong those who are accustomed to the whale-fishing. i do not intend to\\nsail until the month of june; and when shall i return? ah, dear sister, how\\ncan i answer this question? if i succeed, many, many months, perhaps years,\\nwill pass before you and i may meet. if i fail, you will see me again soon,\\nor never.\\n\\nfarewell, my dear, excellent margaret. heaven shower down blessings on you,\\nand save me, that i may again and again testify my gratitude for all your\\nlove and kindness.\\n\\nyour affectionate brother,\\n\\nr. walton'"
      ]
     },
     "execution_count": 15,
     "metadata": {},
     "output_type": "execute_result"
    }
   ],
   "source": [
    "some_text_lower"
   ]
  },
  {
   "cell_type": "markdown",
   "metadata": {
    "toc-hr-collapsed": false
   },
   "source": [
    "## 0-2. remove punctuations and special characters"
   ]
  },
  {
   "cell_type": "markdown",
   "metadata": {},
   "source": [
    "#### Alternatively, we can use regular expression to remove punctuations\n",
    "- So we don't have to list up all possible special characters that we want to remove\n",
    "- https://docs.python.org/3.4/library/re.html\n",
    "- https://en.wikipedia.org/wiki/Regular_expression"
   ]
  },
  {
   "cell_type": "code",
   "execution_count": 19,
   "metadata": {},
   "outputs": [],
   "source": [
    "import re\n",
    "some_text_lower_no_punct = re.sub(r'[^\\w\\s]+', ' ', some_text_lower)"
   ]
  },
  {
   "cell_type": "code",
   "execution_count": 20,
   "metadata": {},
   "outputs": [
    {
     "data": {
      "text/plain": [
       "'letter 1\\n\\n_to mrs  saville  england _\\n\\n\\nst  petersburgh  dec  11th  17 \\n\\n\\nyou will rejoice to hear that no disaster has accompanied the\\ncommencement of an enterprise which you have regarded with such evil\\nforebodings   i arrived here yesterday  and my first task is to assure\\nmy dear sister of my welfare and increasing confidence in the success\\nof my undertaking \\n\\ni am already far north of london  and as i walk in the streets of\\npetersburgh  i feel a cold northern breeze play upon my cheeks  which\\nbraces my nerves and fills me with delight   do you understand this\\nfeeling   this breeze  which has travelled from the regions towards\\nwhich i am advancing  gives me a foretaste of those icy climes \\ninspirited by this wind of promise  my daydreams become more fervent\\nand vivid   i try in vain to be persuaded that the pole is the seat of\\nfrost and desolation  it ever presents itself to my imagination as the\\nregion of beauty and delight   there  margaret  the sun is for ever\\nvisible  its broad disk just skirting the horizon and diffusing a\\nperpetual splendour   there for with your leave  my sister  i will put\\nsome trust in preceding navigators there snow and frost are banished \\nand  sailing over a calm sea  we may be wafted to a land surpassing in\\nwonders and in beauty every region hitherto discovered on the habitable\\nglobe   its productions and features may be without example  as the\\nphenomena of the heavenly bodies undoubtedly are in those undiscovered\\nsolitudes   what may not be expected in a country of eternal light   i\\nmay there discover the wondrous power which attracts the needle and may\\nregulate a thousand celestial observations that require only this\\nvoyage to render their seeming eccentricities consistent for ever   i\\nshall satiate my ardent curiosity with the sight of a part of the world\\nnever before visited  and may tread a land never before imprinted by\\nthe foot of man  these are my enticements  and they are sufficient to\\nconquer all fear of danger or death and to induce me to commence this\\nlaborious voyage with the joy a child feels when he embarks in a little\\nboat  with his holiday mates  on an expedition of discovery up his\\nnative river  but supposing all these conjectures to be false  you\\ncannot contest the inestimable benefit which i shall confer on all\\nmankind  to the last generation  by discovering a passage near the pole\\nto those countries  to reach which at present so many months are\\nrequisite  or by ascertaining the secret of the magnet  which  if at\\nall possible  can only be effected by an undertaking such as mine \\n\\nthese reflections have dispelled the agitation with which i began my\\nletter  and i feel my heart glow with an enthusiasm which elevates me\\nto heaven  for nothing contributes so much to tranquillise the mind as\\na steady purpose a point on which the soul may fix its intellectual\\neye   this expedition has been the favourite dream of my early years  i\\nhave read with ardour the accounts of the various voyages which have\\nbeen made in the prospect of arriving at the north pacific ocean\\nthrough the seas which surround the pole   you may remember that a\\nhistory of all the voyages made for purposes of discovery composed the\\nwhole of our good uncle thomas  library   my education was neglected \\nyet i was passionately fond of reading   these volumes were my study\\nday and night  and my familiarity with them increased that regret which\\ni had felt  as a child  on learning that my father s dying injunction\\nhad forbidden my uncle to allow me to embark in a seafaring life \\n\\nthese visions faded when i perused  for the first time  those poets\\nwhose effusions entranced my soul and lifted it to heaven   i also\\nbecame a poet and for one year lived in a paradise of my own creation \\ni imagined that i also might obtain a niche in the temple where the\\nnames of homer and shakespeare are consecrated   you are well\\nacquainted with my failure and how heavily i bore the disappointment \\nbut just at that time i inherited the fortune of my cousin  and my\\nthoughts were turned into the channel of their earlier bent \\n\\nsix years have passed since i resolved on my present undertaking   i\\ncan  even now  remember the hour from which i dedicated myself to this\\ngreat enterprise   i commenced by inuring my body to hardship   i\\naccompanied the whale fishers on several expeditions to the north sea \\ni voluntarily endured cold  famine  thirst  and want of sleep  i often\\nworked harder than the common sailors during the day and devoted my\\nnights to the study of mathematics  the theory of medicine  and those\\nbranches of physical science from which a naval adventurer might derive\\nthe greatest practical advantage   twice i actually hired myself as an\\nunder mate in a greenland whaler  and acquitted myself to admiration  i\\nmust own i felt a little proud when my captain offered me the second\\ndignity in the vessel and entreated me to remain with the greatest\\nearnestness  so valuable did he consider my services \\n\\nand now  dear margaret  do i not deserve to accomplish some great purpose \\nmy life might have been passed in ease and luxury  but i preferred glory to\\nevery enticement that wealth placed in my path  oh  that some encouraging\\nvoice would answer in the affirmative  my courage and my resolution is\\nfirm  but my hopes fluctuate  and my spirits are often depressed  i am\\nabout to proceed on a long and difficult voyage  the emergencies of which\\nwill demand all my fortitude  i am required not only to raise the spirits\\nof others  but sometimes to sustain my own  when theirs are failing \\n\\nthis is the most favourable period for travelling in russia   they fly\\nquickly over the snow in their sledges  the motion is pleasant  and  in\\nmy opinion  far more agreeable than that of an english stagecoach   the\\ncold is not excessive  if you are wrapped in furs a dress which i have\\nalready adopted  for there is a great difference between walking the\\ndeck and remaining seated motionless for hours  when no exercise\\nprevents the blood from actually freezing in your veins   i have no\\nambition to lose my life on the post road between st  petersburgh and\\narchangel \\n\\ni shall depart for the latter town in a fortnight or three weeks  and my\\nintention is to hire a ship there  which can easily be done by paying the\\ninsurance for the owner  and to engage as many sailors as i think necessary\\namong those who are accustomed to the whale fishing  i do not intend to\\nsail until the month of june  and when shall i return  ah  dear sister  how\\ncan i answer this question  if i succeed  many  many months  perhaps years \\nwill pass before you and i may meet  if i fail  you will see me again soon \\nor never \\n\\nfarewell  my dear  excellent margaret  heaven shower down blessings on you \\nand save me  that i may again and again testify my gratitude for all your\\nlove and kindness \\n\\nyour affectionate brother \\n\\nr  walton'"
      ]
     },
     "execution_count": 20,
     "metadata": {},
     "output_type": "execute_result"
    }
   ],
   "source": [
    "some_text_lower_no_punct"
   ]
  },
  {
   "cell_type": "markdown",
   "metadata": {},
   "source": [
    "- However, special character ```\\n``` (linebreak) still exists in both cases. Let's remove these additionally."
   ]
  },
  {
   "cell_type": "code",
   "execution_count": 21,
   "metadata": {},
   "outputs": [
    {
     "data": {
      "text/plain": [
       "'\\n'"
      ]
     },
     "execution_count": 21,
     "metadata": {},
     "output_type": "execute_result"
    }
   ],
   "source": [
    "import os\n",
    "os.linesep"
   ]
  },
  {
   "cell_type": "code",
   "execution_count": 22,
   "metadata": {},
   "outputs": [
    {
     "data": {
      "text/plain": [
       "'letter 1  _to mrs  saville  england _   st  petersburgh  dec  11th  17    you will rejoice to hear that no disaster has accompanied the commencement of an enterprise which you have regarded with such evil forebodings   i arrived here yesterday  and my first task is to assure my dear sister of my welfare and increasing confidence in the success of my undertaking   i am already far north of london  and as i walk in the streets of petersburgh  i feel a cold northern breeze play upon my cheeks  which braces my nerves and fills me with delight   do you understand this feeling   this breeze  which has travelled from the regions towards which i am advancing  gives me a foretaste of those icy climes  inspirited by this wind of promise  my daydreams become more fervent and vivid   i try in vain to be persuaded that the pole is the seat of frost and desolation  it ever presents itself to my imagination as the region of beauty and delight   there  margaret  the sun is for ever visible  its broad disk just skirting the horizon and diffusing a perpetual splendour   there for with your leave  my sister  i will put some trust in preceding navigators there snow and frost are banished  and  sailing over a calm sea  we may be wafted to a land surpassing in wonders and in beauty every region hitherto discovered on the habitable globe   its productions and features may be without example  as the phenomena of the heavenly bodies undoubtedly are in those undiscovered solitudes   what may not be expected in a country of eternal light   i may there discover the wondrous power which attracts the needle and may regulate a thousand celestial observations that require only this voyage to render their seeming eccentricities consistent for ever   i shall satiate my ardent curiosity with the sight of a part of the world never before visited  and may tread a land never before imprinted by the foot of man  these are my enticements  and they are sufficient to conquer all fear of danger or death and to induce me to commence this laborious voyage with the joy a child feels when he embarks in a little boat  with his holiday mates  on an expedition of discovery up his native river  but supposing all these conjectures to be false  you cannot contest the inestimable benefit which i shall confer on all mankind  to the last generation  by discovering a passage near the pole to those countries  to reach which at present so many months are requisite  or by ascertaining the secret of the magnet  which  if at all possible  can only be effected by an undertaking such as mine   these reflections have dispelled the agitation with which i began my letter  and i feel my heart glow with an enthusiasm which elevates me to heaven  for nothing contributes so much to tranquillise the mind as a steady purpose a point on which the soul may fix its intellectual eye   this expedition has been the favourite dream of my early years  i have read with ardour the accounts of the various voyages which have been made in the prospect of arriving at the north pacific ocean through the seas which surround the pole   you may remember that a history of all the voyages made for purposes of discovery composed the whole of our good uncle thomas  library   my education was neglected  yet i was passionately fond of reading   these volumes were my study day and night  and my familiarity with them increased that regret which i had felt  as a child  on learning that my father s dying injunction had forbidden my uncle to allow me to embark in a seafaring life   these visions faded when i perused  for the first time  those poets whose effusions entranced my soul and lifted it to heaven   i also became a poet and for one year lived in a paradise of my own creation  i imagined that i also might obtain a niche in the temple where the names of homer and shakespeare are consecrated   you are well acquainted with my failure and how heavily i bore the disappointment  but just at that time i inherited the fortune of my cousin  and my thoughts were turned into the channel of their earlier bent   six years have passed since i resolved on my present undertaking   i can  even now  remember the hour from which i dedicated myself to this great enterprise   i commenced by inuring my body to hardship   i accompanied the whale fishers on several expeditions to the north sea  i voluntarily endured cold  famine  thirst  and want of sleep  i often worked harder than the common sailors during the day and devoted my nights to the study of mathematics  the theory of medicine  and those branches of physical science from which a naval adventurer might derive the greatest practical advantage   twice i actually hired myself as an under mate in a greenland whaler  and acquitted myself to admiration  i must own i felt a little proud when my captain offered me the second dignity in the vessel and entreated me to remain with the greatest earnestness  so valuable did he consider my services   and now  dear margaret  do i not deserve to accomplish some great purpose  my life might have been passed in ease and luxury  but i preferred glory to every enticement that wealth placed in my path  oh  that some encouraging voice would answer in the affirmative  my courage and my resolution is firm  but my hopes fluctuate  and my spirits are often depressed  i am about to proceed on a long and difficult voyage  the emergencies of which will demand all my fortitude  i am required not only to raise the spirits of others  but sometimes to sustain my own  when theirs are failing   this is the most favourable period for travelling in russia   they fly quickly over the snow in their sledges  the motion is pleasant  and  in my opinion  far more agreeable than that of an english stagecoach   the cold is not excessive  if you are wrapped in furs a dress which i have already adopted  for there is a great difference between walking the deck and remaining seated motionless for hours  when no exercise prevents the blood from actually freezing in your veins   i have no ambition to lose my life on the post road between st  petersburgh and archangel   i shall depart for the latter town in a fortnight or three weeks  and my intention is to hire a ship there  which can easily be done by paying the insurance for the owner  and to engage as many sailors as i think necessary among those who are accustomed to the whale fishing  i do not intend to sail until the month of june  and when shall i return  ah  dear sister  how can i answer this question  if i succeed  many  many months  perhaps years  will pass before you and i may meet  if i fail  you will see me again soon  or never   farewell  my dear  excellent margaret  heaven shower down blessings on you  and save me  that i may again and again testify my gratitude for all your love and kindness   your affectionate brother   r  walton'"
      ]
     },
     "execution_count": 22,
     "metadata": {},
     "output_type": "execute_result"
    }
   ],
   "source": [
    "some_clean_text = some_text_lower_no_punct.replace(os.linesep, \" \")\n",
    "some_clean_text"
   ]
  },
  {
   "cell_type": "markdown",
   "metadata": {},
   "source": [
    "### <font color='red'> Q1. How would you remove numbers from the text? </font>"
   ]
  },
  {
   "cell_type": "code",
   "execution_count": 15,
   "metadata": {},
   "outputs": [],
   "source": [
    "# put your code here"
   ]
  },
  {
   "cell_type": "code",
   "execution_count": 24,
   "metadata": {},
   "outputs": [
    {
     "data": {
      "text/plain": [
       "'letter    _to mrs  saville  england _   st  petersburgh  dec    th        you will rejoice to hear that no disaster has accompanied the commencement of an enterprise which you have regarded with such evil forebodings   i arrived here yesterday  and my first task is to assure my dear sister of my welfare and increasing confidence in the success of my undertaking   i am already far north of london  and as i walk in the streets of petersburgh  i feel a cold northern breeze play upon my cheeks  which braces my nerves and fills me with delight   do you understand this feeling   this breeze  which has travelled from the regions towards which i am advancing  gives me a foretaste of those icy climes  inspirited by this wind of promise  my daydreams become more fervent and vivid   i try in vain to be persuaded that the pole is the seat of frost and desolation  it ever presents itself to my imagination as the region of beauty and delight   there  margaret  the sun is for ever visible  its broad disk just skirting the horizon and diffusing a perpetual splendour   there for with your leave  my sister  i will put some trust in preceding navigators there snow and frost are banished  and  sailing over a calm sea  we may be wafted to a land surpassing in wonders and in beauty every region hitherto discovered on the habitable globe   its productions and features may be without example  as the phenomena of the heavenly bodies undoubtedly are in those undiscovered solitudes   what may not be expected in a country of eternal light   i may there discover the wondrous power which attracts the needle and may regulate a thousand celestial observations that require only this voyage to render their seeming eccentricities consistent for ever   i shall satiate my ardent curiosity with the sight of a part of the world never before visited  and may tread a land never before imprinted by the foot of man  these are my enticements  and they are sufficient to conquer all fear of danger or death and to induce me to commence this laborious voyage with the joy a child feels when he embarks in a little boat  with his holiday mates  on an expedition of discovery up his native river  but supposing all these conjectures to be false  you cannot contest the inestimable benefit which i shall confer on all mankind  to the last generation  by discovering a passage near the pole to those countries  to reach which at present so many months are requisite  or by ascertaining the secret of the magnet  which  if at all possible  can only be effected by an undertaking such as mine   these reflections have dispelled the agitation with which i began my letter  and i feel my heart glow with an enthusiasm which elevates me to heaven  for nothing contributes so much to tranquillise the mind as a steady purpose a point on which the soul may fix its intellectual eye   this expedition has been the favourite dream of my early years  i have read with ardour the accounts of the various voyages which have been made in the prospect of arriving at the north pacific ocean through the seas which surround the pole   you may remember that a history of all the voyages made for purposes of discovery composed the whole of our good uncle thomas  library   my education was neglected  yet i was passionately fond of reading   these volumes were my study day and night  and my familiarity with them increased that regret which i had felt  as a child  on learning that my father s dying injunction had forbidden my uncle to allow me to embark in a seafaring life   these visions faded when i perused  for the first time  those poets whose effusions entranced my soul and lifted it to heaven   i also became a poet and for one year lived in a paradise of my own creation  i imagined that i also might obtain a niche in the temple where the names of homer and shakespeare are consecrated   you are well acquainted with my failure and how heavily i bore the disappointment  but just at that time i inherited the fortune of my cousin  and my thoughts were turned into the channel of their earlier bent   six years have passed since i resolved on my present undertaking   i can  even now  remember the hour from which i dedicated myself to this great enterprise   i commenced by inuring my body to hardship   i accompanied the whale fishers on several expeditions to the north sea  i voluntarily endured cold  famine  thirst  and want of sleep  i often worked harder than the common sailors during the day and devoted my nights to the study of mathematics  the theory of medicine  and those branches of physical science from which a naval adventurer might derive the greatest practical advantage   twice i actually hired myself as an under mate in a greenland whaler  and acquitted myself to admiration  i must own i felt a little proud when my captain offered me the second dignity in the vessel and entreated me to remain with the greatest earnestness  so valuable did he consider my services   and now  dear margaret  do i not deserve to accomplish some great purpose  my life might have been passed in ease and luxury  but i preferred glory to every enticement that wealth placed in my path  oh  that some encouraging voice would answer in the affirmative  my courage and my resolution is firm  but my hopes fluctuate  and my spirits are often depressed  i am about to proceed on a long and difficult voyage  the emergencies of which will demand all my fortitude  i am required not only to raise the spirits of others  but sometimes to sustain my own  when theirs are failing   this is the most favourable period for travelling in russia   they fly quickly over the snow in their sledges  the motion is pleasant  and  in my opinion  far more agreeable than that of an english stagecoach   the cold is not excessive  if you are wrapped in furs a dress which i have already adopted  for there is a great difference between walking the deck and remaining seated motionless for hours  when no exercise prevents the blood from actually freezing in your veins   i have no ambition to lose my life on the post road between st  petersburgh and archangel   i shall depart for the latter town in a fortnight or three weeks  and my intention is to hire a ship there  which can easily be done by paying the insurance for the owner  and to engage as many sailors as i think necessary among those who are accustomed to the whale fishing  i do not intend to sail until the month of june  and when shall i return  ah  dear sister  how can i answer this question  if i succeed  many  many months  perhaps years  will pass before you and i may meet  if i fail  you will see me again soon  or never   farewell  my dear  excellent margaret  heaven shower down blessings on you  and save me  that i may again and again testify my gratitude for all your love and kindness   your affectionate brother   r  walton'"
      ]
     },
     "execution_count": 24,
     "metadata": {},
     "output_type": "execute_result"
    }
   ],
   "source": [
    "re.sub(r'[0-9]', ' ', some_clean_text)"
   ]
  },
  {
   "cell_type": "markdown",
   "metadata": {},
   "source": [
    "## 0-3. Remove stop words"
   ]
  },
  {
   "cell_type": "markdown",
   "metadata": {},
   "source": [
    "- Stop words usually refers to the most common words in a language\n",
    "    - No single universial stopwords\n",
    "    - Often stopwords are removed to improve the performance of NLP models\n",
    "    - https://en.wikipedia.org/wiki/Stop_words\n",
    "    - https://en.wikipedia.org/wiki/Most_common_words_in_English"
   ]
  },
  {
   "cell_type": "markdown",
   "metadata": {},
   "source": [
    "#### Import the list of stop words from ```spaCy```"
   ]
  },
  {
   "cell_type": "code",
   "execution_count": 25,
   "metadata": {},
   "outputs": [],
   "source": [
    "from spacy.lang.en.stop_words import STOP_WORDS"
   ]
  },
  {
   "cell_type": "code",
   "execution_count": 26,
   "metadata": {},
   "outputs": [
    {
     "data": {
      "text/plain": [
       "array({'wherever', 'often', 'whose', 'show', 'put', 'its', 'since', 'very', 'most', 'hers', 'yourselves', 'nowhere', 'noone', 'although', 'also', 'whole', 'elsewhere', 'herself', 'towards', 'be', 'between', 'call', 'for', 'after', 'ours', 'did', 'every', 'nine', 'should', 'because', 'nor', 'nobody', 'well', 'indeed', 'against', 'these', 'toward', 'down', 'only', 'say', 'yours', 'beforehand', 'sixty', 'a', 'move', 'there', 'until', 'top', 'your', 'not', 'cannot', 'while', 'i', 'would', 'amount', 'before', 'sometimes', 'amongst', 'throughout', 'our', 'and', 'back', 'is', 'same', 'upon', 'why', 'within', 'you', 'own', 'three', 'used', 'just', 'none', 'all', 'over', 'us', 'during', 'onto', 'her', 'hereupon', 'afterwards', 'must', 'that', 'up', 'however', 'became', 'by', 'becomes', 'anyone', 'whereafter', 'at', 'beside', 'among', 'somehow', 'thereupon', 'hundred', 'front', 'unless', 'meanwhile', 'can', 'last', 'eleven', 'their', 'namely', 'the', 'when', 'ourselves', 'each', 'former', 'am', 'ever', 'being', 'above', 'five', 'done', 'how', 'whereupon', 'too', 'under', 'anywhere', 'thence', 're', 'whereby', 'no', 'both', 'hence', 'fifty', 'much', 'hereby', 'seems', 'whenever', 'myself', 'of', 'does', 'latter', 'who', 'ca', 'now', 'itself', 'him', 'please', 'some', 'get', 'beyond', 'either', 'she', 'though', 'go', 'this', 'where', 'twenty', 'everything', 'see', 'few', 'along', 'else', 'nothing', 'somewhere', 'than', 'they', 'through', 'whereas', 'take', 'those', 'together', 'an', 'everyone', 'has', 'my', 'due', 'least', 'other', 'as', 'them', 'wherein', 'whoever', 'third', 'via', 'on', 'per', 'was', 'alone', 'enough', 'about', 'fifteen', 'seeming', 'thus', 'his', 'it', 'becoming', 'perhaps', 'what', 'many', 'once', 'except', 'therein', 'behind', 'in', 'out', 'whence', 'do', 'himself', 'anything', 'more', 'four', 'others', 'part', 'anyway', 'side', 'thereby', 'without', 'otherwise', 'themselves', 'below', 'yourself', 'mine', 'to', 'herein', 'latterly', 'have', 'moreover', 'could', 'full', 'someone', 'such', 'already', 'yet', 'formerly', 'may', 'around', 'doing', 'further', 'make', 'quite', 'six', 'hereafter', 'any', 'he', 'always', 'become', 'one', 'really', 'thereafter', 'give', 'therefore', 'besides', 'various', 'were', 'next', 'we', 'nevertheless', 'something', 'again', 'another', 'bottom', 'had', 'serious', 'are', 'using', 'whatever', 'made', 'seem', 'mostly', 'but', 'anyhow', 'name', 'everywhere', 'neither', 'several', 'sometime', 'off', 'will', 'even', 'first', 'across', 'might', 'or', 'less', 'ten', 'then', 'forty', 'rather', 'seemed', 'from', 'so', 'with', 'whither', 'here', 'twelve', 'me', 'eight', 'regarding', 'if', 'still', 'into', 'thru', 'two', 'whether', 'empty', 'almost', 'been', 'never', 'which', 'whom', 'keep'},\n",
       "      dtype=object)"
      ]
     },
     "execution_count": 26,
     "metadata": {},
     "output_type": "execute_result"
    }
   ],
   "source": [
    "np.array(STOP_WORDS)"
   ]
  },
  {
   "cell_type": "markdown",
   "metadata": {},
   "source": [
    "#### Goal: We are going to count the frequency of each word from the paragraph, to see which words can be used to represent the paragraph's content. "
   ]
  },
  {
   "cell_type": "markdown",
   "metadata": {},
   "source": [
    "#### What if we do not remove stopwords?"
   ]
  },
  {
   "cell_type": "code",
   "execution_count": 27,
   "metadata": {},
   "outputs": [],
   "source": [
    "from collections import Counter"
   ]
  },
  {
   "cell_type": "markdown",
   "metadata": {},
   "source": [
    "- Note that our paragraph is stored as a single string object..."
   ]
  },
  {
   "cell_type": "code",
   "execution_count": 28,
   "metadata": {},
   "outputs": [
    {
     "data": {
      "text/plain": [
       "'letter 1  _to mrs  saville  england _   st  petersburgh  dec  11th  17    you will rejoice to hear that no disaster has accompanied the commencement of an enterprise which you have regarded with such evil forebodings   i arrived here yesterday  and my first task is to assure my dear sister of my welfare and increasing confidence in the success of my undertaking   i am already far north of london  and as i walk in the streets of petersburgh  i feel a cold northern breeze play upon my cheeks  which braces my nerves and fills me with delight   do you understand this feeling   this breeze  which has travelled from the regions towards which i am advancing  gives me a foretaste of those icy climes  inspirited by this wind of promise  my daydreams become more fervent and vivid   i try in vain to be persuaded that the pole is the seat of frost and desolation  it ever presents itself to my imagination as the region of beauty and delight   there  margaret  the sun is for ever visible  its broad disk just skirting the horizon and diffusing a perpetual splendour   there for with your leave  my sister  i will put some trust in preceding navigators there snow and frost are banished  and  sailing over a calm sea  we may be wafted to a land surpassing in wonders and in beauty every region hitherto discovered on the habitable globe   its productions and features may be without example  as the phenomena of the heavenly bodies undoubtedly are in those undiscovered solitudes   what may not be expected in a country of eternal light   i may there discover the wondrous power which attracts the needle and may regulate a thousand celestial observations that require only this voyage to render their seeming eccentricities consistent for ever   i shall satiate my ardent curiosity with the sight of a part of the world never before visited  and may tread a land never before imprinted by the foot of man  these are my enticements  and they are sufficient to conquer all fear of danger or death and to induce me to commence this laborious voyage with the joy a child feels when he embarks in a little boat  with his holiday mates  on an expedition of discovery up his native river  but supposing all these conjectures to be false  you cannot contest the inestimable benefit which i shall confer on all mankind  to the last generation  by discovering a passage near the pole to those countries  to reach which at present so many months are requisite  or by ascertaining the secret of the magnet  which  if at all possible  can only be effected by an undertaking such as mine   these reflections have dispelled the agitation with which i began my letter  and i feel my heart glow with an enthusiasm which elevates me to heaven  for nothing contributes so much to tranquillise the mind as a steady purpose a point on which the soul may fix its intellectual eye   this expedition has been the favourite dream of my early years  i have read with ardour the accounts of the various voyages which have been made in the prospect of arriving at the north pacific ocean through the seas which surround the pole   you may remember that a history of all the voyages made for purposes of discovery composed the whole of our good uncle thomas  library   my education was neglected  yet i was passionately fond of reading   these volumes were my study day and night  and my familiarity with them increased that regret which i had felt  as a child  on learning that my father s dying injunction had forbidden my uncle to allow me to embark in a seafaring life   these visions faded when i perused  for the first time  those poets whose effusions entranced my soul and lifted it to heaven   i also became a poet and for one year lived in a paradise of my own creation  i imagined that i also might obtain a niche in the temple where the names of homer and shakespeare are consecrated   you are well acquainted with my failure and how heavily i bore the disappointment  but just at that time i inherited the fortune of my cousin  and my thoughts were turned into the channel of their earlier bent   six years have passed since i resolved on my present undertaking   i can  even now  remember the hour from which i dedicated myself to this great enterprise   i commenced by inuring my body to hardship   i accompanied the whale fishers on several expeditions to the north sea  i voluntarily endured cold  famine  thirst  and want of sleep  i often worked harder than the common sailors during the day and devoted my nights to the study of mathematics  the theory of medicine  and those branches of physical science from which a naval adventurer might derive the greatest practical advantage   twice i actually hired myself as an under mate in a greenland whaler  and acquitted myself to admiration  i must own i felt a little proud when my captain offered me the second dignity in the vessel and entreated me to remain with the greatest earnestness  so valuable did he consider my services   and now  dear margaret  do i not deserve to accomplish some great purpose  my life might have been passed in ease and luxury  but i preferred glory to every enticement that wealth placed in my path  oh  that some encouraging voice would answer in the affirmative  my courage and my resolution is firm  but my hopes fluctuate  and my spirits are often depressed  i am about to proceed on a long and difficult voyage  the emergencies of which will demand all my fortitude  i am required not only to raise the spirits of others  but sometimes to sustain my own  when theirs are failing   this is the most favourable period for travelling in russia   they fly quickly over the snow in their sledges  the motion is pleasant  and  in my opinion  far more agreeable than that of an english stagecoach   the cold is not excessive  if you are wrapped in furs a dress which i have already adopted  for there is a great difference between walking the deck and remaining seated motionless for hours  when no exercise prevents the blood from actually freezing in your veins   i have no ambition to lose my life on the post road between st  petersburgh and archangel   i shall depart for the latter town in a fortnight or three weeks  and my intention is to hire a ship there  which can easily be done by paying the insurance for the owner  and to engage as many sailors as i think necessary among those who are accustomed to the whale fishing  i do not intend to sail until the month of june  and when shall i return  ah  dear sister  how can i answer this question  if i succeed  many  many months  perhaps years  will pass before you and i may meet  if i fail  you will see me again soon  or never   farewell  my dear  excellent margaret  heaven shower down blessings on you  and save me  that i may again and again testify my gratitude for all your love and kindness   your affectionate brother   r  walton'"
      ]
     },
     "execution_count": 28,
     "metadata": {},
     "output_type": "execute_result"
    }
   ],
   "source": [
    "some_clean_text"
   ]
  },
  {
   "cell_type": "markdown",
   "metadata": {},
   "source": [
    "- Split the paragraph into a list of words"
   ]
  },
  {
   "cell_type": "code",
   "execution_count": 29,
   "metadata": {},
   "outputs": [],
   "source": [
    "words = some_clean_text.split()"
   ]
  },
  {
   "cell_type": "markdown",
   "metadata": {},
   "source": [
    "- Count the words from the list\n",
    "- Words that can occur in any kind of paragraphs...?"
   ]
  },
  {
   "cell_type": "code",
   "execution_count": 30,
   "metadata": {},
   "outputs": [
    {
     "data": {
      "text/plain": [
       "[('the', 67),\n",
       " ('i', 46),\n",
       " ('and', 44),\n",
       " ('my', 42),\n",
       " ('of', 36),\n",
       " ('to', 34),\n",
       " ('a', 28),\n",
       " ('in', 24),\n",
       " ('which', 19),\n",
       " ('for', 13)]"
      ]
     },
     "execution_count": 30,
     "metadata": {},
     "output_type": "execute_result"
    }
   ],
   "source": [
    "Counter(words).most_common(10)"
   ]
  },
  {
   "cell_type": "code",
   "execution_count": 72,
   "metadata": {},
   "outputs": [
    {
     "data": {
      "image/png": "[encoded data removed]",
      "text/plain": [
       "<Figure size 3240x720 with 1 Axes>"
      ]
     },
     "metadata": {
      "needs_background": "light"
     },
     "output_type": "display_data"
    }
   ],
   "source": [
    "plt.figure(figsize=(45,10))\n",
    "words = words[:100]\n",
    "sns.countplot(words, order=pd.Series(words).value_counts().index)\n",
    "# sns.countplot(words_nostop, order=[counted[0] for counted in Counter(words_nostop).most_common()])\n",
    "plt.xticks(rotation=90)\n",
    "plt.show()"
   ]
  },
  {
   "cell_type": "markdown",
   "metadata": {},
   "source": [
    "(double click the plot to enlarge)"
   ]
  },
  {
   "cell_type": "markdown",
   "metadata": {},
   "source": [
    "#### When we removed stopwords:"
   ]
  },
  {
   "cell_type": "code",
   "execution_count": 33,
   "metadata": {},
   "outputs": [],
   "source": [
    "# split sentence into words\n",
    "words_nostop = list()\n",
    "for word in words:\n",
    "    if word not in STOP_WORDS:\n",
    "        words_nostop.append(word)\n",
    "# words_nostop = [word for word in words if word not in STOP_WORDS]"
   ]
  },
  {
   "cell_type": "markdown",
   "metadata": {},
   "source": [
    "- More comprehensible, and unique list or words!"
   ]
  },
  {
   "cell_type": "code",
   "execution_count": 34,
   "metadata": {},
   "outputs": [
    {
     "data": {
      "text/plain": [
       "[('dear', 4),\n",
       " ('shall', 4),\n",
       " ('petersburgh', 3),\n",
       " ('sister', 3),\n",
       " ('undertaking', 3),\n",
       " ('north', 3),\n",
       " ('cold', 3),\n",
       " ('pole', 3),\n",
       " ('margaret', 3),\n",
       " ('voyage', 3)]"
      ]
     },
     "execution_count": 34,
     "metadata": {},
     "output_type": "execute_result"
    }
   ],
   "source": [
    "Counter(words_nostop).most_common(10)"
   ]
  },
  {
   "cell_type": "code",
   "execution_count": 74,
   "metadata": {},
   "outputs": [
    {
     "data": {
      "image/png": "[encoded data removed]",
      "text/plain": [
       "<Figure size 3240x720 with 1 Axes>"
      ]
     },
     "metadata": {
      "needs_background": "light"
     },
     "output_type": "display_data"
    }
   ],
   "source": [
    "plt.figure(figsize=(45,10))\n",
    "words_nostop = words_nostop[:100]\n",
    "sns.countplot(words_nostop, order=pd.Series(words_nostop).value_counts().index)\n",
    "# sns.countplot(words_nostop, order=[counted[0] for counted in Counter(words_nostop).most_common()])\n",
    "plt.xticks(rotation=90)\n",
    "plt.show()"
   ]
  },
  {
   "cell_type": "markdown",
   "metadata": {},
   "source": [
    "(double click the plot to enlarge)"
   ]
  },
  {
   "cell_type": "markdown",
   "metadata": {},
   "source": [
    "### <font color='red'> Q2. Based on the word frequency results, what was the letter about? </font>"
   ]
  },
  {
   "cell_type": "markdown",
   "metadata": {},
   "source": [
    "(type in your response here)"
   ]
  },
  {
   "cell_type": "markdown",
   "metadata": {},
   "source": [
    "# 1. Extracting linguistic features from spaCy"
   ]
  },
  {
   "cell_type": "markdown",
   "metadata": {},
   "source": [
    "## 1-1. Tokenize\n",
    "- Token: a semantic unit for analysis\n",
    "    - (Loosely) equal term for word\n",
    "        - ```sent_low_pnct.split()```\n",
    "    - Tricky cases\n",
    "        - aren't $\\rightarrow$ ?\n",
    "        - O'Neil $\\rightarrow$ ?\n",
    "- In ```spaCy```:\n",
    "    - Many token types, like word, puntuation symbol, whitespace, etc."
   ]
  },
  {
   "cell_type": "markdown",
   "metadata": {},
   "source": [
    "### Let's disect the sentence!\n",
    "\n",
    "- initiating the ```spaCy``` object "
   ]
  },
  {
   "cell_type": "code",
   "execution_count": 75,
   "metadata": {},
   "outputs": [],
   "source": [
    "# examples partially taken from https://nlpforhackers.io/complete-guide-to-spacy/\n",
    "import spacy\n",
    "nlp = spacy.load('en')"
   ]
  },
  {
   "cell_type": "markdown",
   "metadata": {},
   "source": [
    "- Our sentence: \"Hello World!\"\n",
    "    - Pass the sentence string to the ```spaCy``` object ```nlp```"
   ]
  },
  {
   "cell_type": "code",
   "execution_count": 76,
   "metadata": {},
   "outputs": [],
   "source": [
    "doc = nlp(\"Hello World!\")"
   ]
  },
  {
   "cell_type": "markdown",
   "metadata": {},
   "source": [
    "- The sentence is considered as a short document."
   ]
  },
  {
   "cell_type": "code",
   "execution_count": 77,
   "metadata": {},
   "outputs": [
    {
     "name": "stdout",
     "output_type": "stream",
     "text": [
      "<class 'spacy.tokens.doc.Doc'> Hello World!\n"
     ]
    }
   ],
   "source": [
    "print(type(doc), doc)"
   ]
  },
  {
   "cell_type": "markdown",
   "metadata": {},
   "source": [
    "- As importing the sentence string above, ```spaCy``` splited the sentence into tokens (tokenization!)"
   ]
  },
  {
   "cell_type": "code",
   "execution_count": 78,
   "metadata": {},
   "outputs": [
    {
     "name": "stdout",
     "output_type": "stream",
     "text": [
      "0 Hello\n",
      "1 World\n",
      "2 !\n"
     ]
    }
   ],
   "source": [
    "for i,token in enumerate(doc):\n",
    "    print(i, token)"
   ]
  },
  {
   "cell_type": "markdown",
   "metadata": {},
   "source": [
    "- With index information (location from the sentence) of each token"
   ]
  },
  {
   "cell_type": "markdown",
   "metadata": {},
   "source": [
    "| 0 | 1 | 2 | 3 | 4 | 5 | 6 | 7 | 8 | 9 | 10| 11|\n",
    "|---|---|---|---|---|---|---|---|---|---|---|---|\n",
    "| H | e | l | l | o | _ | W | o | r | l | d | ! |"
   ]
  },
  {
   "cell_type": "code",
   "execution_count": 79,
   "metadata": {},
   "outputs": [
    {
     "name": "stdout",
     "output_type": "stream",
     "text": [
      "0 Hello 0\n",
      "1 World 6\n",
      "2 ! 11\n"
     ]
    }
   ],
   "source": [
    "for i, token in enumerate(doc):\n",
    "    print(i, token.text, token.idx) \n"
   ]
  },
  {
   "cell_type": "markdown",
   "metadata": {},
   "source": [
    "- And many more!\n",
    "    - https://spacy.io/api/token#attributes"
   ]
  },
  {
   "cell_type": "code",
   "execution_count": 81,
   "metadata": {},
   "outputs": [
    {
     "name": "stdout",
     "output_type": "stream",
     "text": [
      "text \t idx \t lemma \t lower \t is_punct \t is_space \t shape \t POS\n",
      "What\t0\twhat\twhat\tFalse\tFalse\tXxxx\tNOUN\n",
      "are\t5\tbe\tare\tFalse\tFalse\txxx\tVERB\n",
      "you\t9\t-PRON-\tyou\tFalse\tFalse\txxx\tPRON\n",
      "planning\t13\tplan\tplanning\tFalse\tFalse\txxxx\tVERB\n",
      "to\t22\tto\tto\tFalse\tFalse\txx\tPART\n",
      "do\t25\tdo\tdo\tFalse\tFalse\txx\tVERB\n",
      "during\t28\tduring\tduring\tFalse\tFalse\txxxx\tADP\n",
      "the\t35\tthe\tthe\tFalse\tFalse\txxx\tDET\n",
      "study\t39\tstudy\tstudy\tFalse\tFalse\txxxx\tNOUN\n",
      "break\t45\tbreak\tbreak\tFalse\tFalse\txxxx\tNOUN\n",
      "?\t50\t?\t?\tTrue\tFalse\t?\tPUNCT\n"
     ]
    }
   ],
   "source": [
    "doc = nlp(\"What are you planning to do during the study break?\")\n",
    "\n",
    "print(\"text \\t idx \\t lemma \\t lower \\t is_punct \\t is_space \\t shape \\t POS\")\n",
    "for token in doc:\n",
    "    print(\"{0}\\t{1}\\t{2}\\t{3}\\t{4}\\t{5}\\t{6}\\t{7}\".format(\n",
    "        token.text,\n",
    "        token.idx,\n",
    "        token.lemma_,\n",
    "        token.lower_,\n",
    "        token.is_punct,\n",
    "        token.is_space,\n",
    "        token.shape_,\n",
    "        token.pos_\n",
    "    ))\n"
   ]
  },
  {
   "cell_type": "markdown",
   "metadata": {},
   "source": [
    "## 1-2. Sentence detection"
   ]
  },
  {
   "cell_type": "markdown",
   "metadata": {},
   "source": [
    "- For the document with multiple sentences, we would need to separate between each sentences.\n",
    "- In ```spaCy```, the job is more convinient (and would cause less mistatkes) than using regular expression"
   ]
  },
  {
   "cell_type": "markdown",
   "metadata": {},
   "source": [
    "### <font color='red'> Q3. How would you separate sentences? What's your intuition? </font>"
   ]
  },
  {
   "cell_type": "markdown",
   "metadata": {},
   "source": [
    "(type in your response here)"
   ]
  },
  {
   "cell_type": "markdown",
   "metadata": {},
   "source": [
    "- Our multiple sentence document: "
   ]
  },
  {
   "cell_type": "code",
   "execution_count": 97,
   "metadata": {},
   "outputs": [],
   "source": [
    "doc_multsent = \"\"\"Now she had got a start, and she went on and told me all about the good\n",
    "place.  She said all a body would have to do there was to go around all\n",
    "day long with a harp and sing, forever and ever.  So I didn't think\n",
    "much of it. But I never said so.  I asked her if she reckoned Tom Sawyer\n",
    "would go there, and she said not by a considerable sight.  I was glad\n",
    "about that, because I wanted him and me to be together.\"\"\""
   ]
  },
  {
   "cell_type": "markdown",
   "metadata": {},
   "source": [
    "- in regular expression..."
   ]
  },
  {
   "cell_type": "code",
   "execution_count": 98,
   "metadata": {},
   "outputs": [
    {
     "name": "stdout",
     "output_type": "stream",
     "text": [
      "0 Now she had got a start, and she went on and told me all about the good\n",
      "place.\n",
      "1  She said all a body would have to do there was to go around all\n",
      "day long with a harp and sing, forever and ever.\n",
      "2  So I didn't think\n",
      "much of it.\n",
      "3 But I never said so.\n",
      "4  I asked her if she reckoned Tom Sawyer\n",
      "would go there, and she said not by a considerable sight.\n",
      "5  I was glad\n",
      "about that, because I wanted him and me to be together.\n"
     ]
    }
   ],
   "source": [
    "import re\n",
    "sentences = re.split(r\"(?<!\\w\\.\\w.)(?<![A-Z][a-z]\\.)(?<=\\.|\\?)\\s\", doc_multsent) # how would I remember this pattern without Google/StackOverflow?\n",
    "for i, sent in enumerate(sentences):\n",
    "    print(i, sent)"
   ]
  },
  {
   "cell_type": "markdown",
   "metadata": {},
   "source": [
    "- in ```spaCy```!"
   ]
  },
  {
   "cell_type": "code",
   "execution_count": 99,
   "metadata": {},
   "outputs": [],
   "source": [
    "# same document, but initiate as the spaCy object...\n",
    "doc = nlp(doc_multsent)"
   ]
  },
  {
   "cell_type": "markdown",
   "metadata": {},
   "source": [
    "- Sentences are stored as a generator object\n",
    "    - Instead of storing sentences as a list, each sentence is stored as a item in the generator object \n",
    "    - Iteratable (i.e., can be used in a for loop)\n",
    "    - More efficient memory use\n",
    "    - https://wiki.python.org/moin/Generators"
   ]
  },
  {
   "cell_type": "code",
   "execution_count": 100,
   "metadata": {},
   "outputs": [
    {
     "data": {
      "text/plain": [
       "<generator at 0x1a2df62b70>"
      ]
     },
     "execution_count": 100,
     "metadata": {},
     "output_type": "execute_result"
    }
   ],
   "source": [
    "doc.sents"
   ]
  },
  {
   "cell_type": "markdown",
   "metadata": {},
   "source": [
    "- Printing sentences with the index number"
   ]
  },
  {
   "cell_type": "code",
   "execution_count": 101,
   "metadata": {},
   "outputs": [
    {
     "name": "stdout",
     "output_type": "stream",
     "text": [
      "0 Now she had got a start, and she went on and told me all about the good\n",
      "place.  \n",
      "1 She said all a body would have to do there was to go around all\n",
      "day long with a harp and sing, forever and ever.  \n",
      "2 So I didn't think\n",
      "much of it.\n",
      "3 But I never said so.  \n",
      "4 I asked her if she reckoned Tom Sawyer\n",
      "would go there, and she said not by a considerable sight.  \n",
      "5 I was glad\n",
      "about that, because I wanted him and me to be together.\n"
     ]
    }
   ],
   "source": [
    "for i, sent in enumerate(doc.sents):\n",
    "    print(i, sent)"
   ]
  },
  {
   "cell_type": "markdown",
   "metadata": {},
   "source": [
    "### <font color='red'> Q4. Separate sentences in the letter from Frankenstein, and print sentences with the index number. </font>"
   ]
  },
  {
   "cell_type": "code",
   "execution_count": 102,
   "metadata": {},
   "outputs": [],
   "source": [
    "# put your code here"
   ]
  },
  {
   "cell_type": "markdown",
   "metadata": {},
   "source": [
    "## 1-3. POS tagging"
   ]
  },
  {
   "cell_type": "markdown",
   "metadata": {},
   "source": [
    "- I want to find words with particular part-of-speech!\n",
    "- Different part-of-speech words carry different information\n",
    "    - e.g., noun (subject), verb (action term), adjective (quality of the object) \n",
    "- https://spacy.io/api/annotation#pos-tagging"
   ]
  },
  {
   "cell_type": "markdown",
   "metadata": {},
   "source": [
    "- Yelp review!"
   ]
  },
  {
   "cell_type": "code",
   "execution_count": 103,
   "metadata": {},
   "outputs": [],
   "source": [
    "# from https://www.yelp.com/biz/ajishin-novi?hrid=juA4Zn2TX7845vNFn4syBQ&utm_campaign=www_review_share_popup&utm_medium=copy_link&utm_source=(direct)\n",
    "doc = nlp(\"\"\"One of the best Japanese restaurants in Novi. Simple food, great taste, amazingly price. I visit this place a least twice month.\"\"\")"
   ]
  },
  {
   "cell_type": "markdown",
   "metadata": {},
   "source": [
    "### <font color='red'> Q5a. What can you infer from this review? </font>\n",
    "- What type of the restaurant?\n",
    "- Location?\n",
    "- What did the reviewer liked about?\n",
    "- How often did the person visit the place?\n",
    "- Any other information?"
   ]
  },
  {
   "cell_type": "markdown",
   "metadata": {},
   "source": [
    "(type in your response here)"
   ]
  },
  {
   "cell_type": "markdown",
   "metadata": {},
   "source": [
    "- multiple sentences exist in a document"
   ]
  },
  {
   "cell_type": "code",
   "execution_count": 104,
   "metadata": {},
   "outputs": [
    {
     "name": "stdout",
     "output_type": "stream",
     "text": [
      "0 One of the best Japanese restaurants in Novi.\n",
      "1 Simple food, great taste, amazingly price.\n",
      "2 I visit this place a least twice month.\n"
     ]
    }
   ],
   "source": [
    "for i, sent in enumerate(doc.sents):\n",
    "    print(i, sent)"
   ]
  },
  {
   "cell_type": "markdown",
   "metadata": {},
   "source": [
    "- Question: which words are adjective (ADJ)?"
   ]
  },
  {
   "cell_type": "code",
   "execution_count": 105,
   "metadata": {},
   "outputs": [
    {
     "name": "stdout",
     "output_type": "stream",
     "text": [
      "__sentence__: 0\n",
      "_token_ \t _POS_\n",
      "One \t NUM\n",
      "of \t ADP\n",
      "the \t DET\n",
      "best \t ADJ\n",
      "Japanese \t ADJ\n",
      "restaurants \t NOUN\n",
      "in \t ADP\n",
      "Novi \t PROPN\n",
      ". \t PUNCT\n",
      "__sentence__: 1\n",
      "_token_ \t _POS_\n",
      "Simple \t ADJ\n",
      "food \t NOUN\n",
      ", \t PUNCT\n",
      "great \t ADJ\n",
      "taste \t NOUN\n",
      ", \t PUNCT\n",
      "amazingly \t ADV\n",
      "price \t NOUN\n",
      ". \t PUNCT\n",
      "__sentence__: 2\n",
      "_token_ \t _POS_\n",
      "I \t PRON\n",
      "visit \t VERB\n",
      "this \t DET\n",
      "place \t NOUN\n",
      "a \t DET\n",
      "least \t ADJ\n",
      "twice \t ADJ\n",
      "month \t NOUN\n",
      ". \t PUNCT\n"
     ]
    }
   ],
   "source": [
    "for i, sent in enumerate(doc.sents):\n",
    "    print(\"__sentence__:\", i)\n",
    "    print(\"_token_ \\t _POS_\")\n",
    "    for token in sent:\n",
    "        print(token.text, \"\\t\", token.pos_)"
   ]
  },
  {
   "cell_type": "markdown",
   "metadata": {},
   "source": [
    "- And dependency relationships also can be extracted as string"
   ]
  },
  {
   "cell_type": "code",
   "execution_count": 106,
   "metadata": {},
   "outputs": [
    {
     "name": "stdout",
     "output_type": "stream",
     "text": [
      "\"One\",  NUM [] ROOT\n",
      "\"of\",  ADP [One] prep\n",
      "\"the\",  DET [restaurants, of, One] det\n",
      "\"best\",  ADJ [restaurants, of, One] amod\n",
      "\"Japanese\",  ADJ [restaurants, of, One] amod\n",
      "\"restaurants\",  NOUN [of, One] pobj\n",
      "\"in\",  ADP [restaurants, of, One] prep\n",
      "\"Novi\",  PROPN [in, restaurants, of, One] pobj\n",
      "\".\",  PUNCT [One] punct\n",
      "\"Simple\",  ADJ [food] amod\n",
      "\"food\",  NOUN [] ROOT\n",
      "\",\",  PUNCT [food] punct\n",
      "\"great\",  ADJ [taste, food] amod\n",
      "\"taste\",  NOUN [food] conj\n",
      "\",\",  PUNCT [taste, food] punct\n",
      "\"amazingly\",  ADV [price, taste, food] compound\n",
      "\"price\",  NOUN [taste, food] appos\n",
      "\".\",  PUNCT [food] punct\n",
      "\"I\",  PRON [visit] nsubj\n",
      "\"visit\",  VERB [] ROOT\n",
      "\"this\",  DET [place, visit] det\n",
      "\"place\",  NOUN [visit] dobj\n",
      "\"a\",  DET [month, visit] det\n",
      "\"least\",  ADJ [twice, month, visit] amod\n",
      "\"twice\",  ADJ [month, visit] nummod\n",
      "\"month\",  NOUN [visit] npadvmod\n",
      "\".\",  PUNCT [visit] punct\n"
     ]
    }
   ],
   "source": [
    "for token in doc:\n",
    "    print('\"' + token.text + '\", ', token.pos_, list(token.ancestors), (token.dep_))"
   ]
  },
  {
   "cell_type": "markdown",
   "metadata": {},
   "source": [
    "```spaCy``` follows the ```ClearNLP``` annotations for dependency parsing\n",
    "- https://github.com/clir/clearnlp-guidelines/blob/master/md/specifications/dependency_labels.md"
   ]
  },
  {
   "cell_type": "markdown",
   "metadata": {},
   "source": [
    "# 2. Word embedding"
   ]
  },
  {
   "cell_type": "markdown",
   "metadata": {},
   "source": [
    "- So far, we seen how we can extract some interesting syntactic characteristics from text from using ```spacy```\n",
    "- It extracted the characteristics, but did not indicate what it means\n",
    "- Can machines understand semantic relationship between words?"
   ]
  },
  {
   "cell_type": "markdown",
   "metadata": {},
   "source": [
    "- Distributional semantics\n",
    "    - Representing semantic information of words in a geometric semantic space\n",
    "        - Different relationship between words: explained by geometric relationship between words \n",
    "        - e.g., Related words are located closer to each other; \n",
    "    - And it's often called as *word embedding*"
   ]
  },
  {
   "cell_type": "markdown",
   "metadata": {},
   "source": [
    "#### Word2Vec\n",
    "- Developed by [Mikolov et al., 2013](https://papers.nips.cc/paper/5021-distributed-representations-of-words-and-phrases-and-their-compositionality.pdf)\n",
    "- Represent the meaning of the words as a vector\n",
    "    - Vector: numeric array\n",
    "    - Output of a neural network model that predicts the next word\n",
    "- Surprisingly, many different semantic informations can be represented from word vectors of ```Word2Vec```\n",
    "- (More explanation in here: https://www.tensorflow.org/tutorials/representation/word2vec)"
   ]
  },
  {
   "cell_type": "markdown",
   "metadata": {},
   "source": [
    "<img src=\"https://www.tensorflow.org/images/softmax-nplm.png\" width=\"400\">"
   ]
  },
  {
   "cell_type": "markdown",
   "metadata": {},
   "source": [
    "![](https://www.tensorflow.org/images/linear-relationships.png)"
   ]
  },
  {
   "cell_type": "markdown",
   "metadata": {},
   "source": [
    "### Let's try with some example: words in a semantic space\n",
    "$\\rightarrow$ https://projector.tensorflow.org"
   ]
  },
  {
   "cell_type": "markdown",
   "metadata": {},
   "source": [
    "### <font color='red'> Q6. Any interesting findings from TensorFlow Projector page? </font>"
   ]
  },
  {
   "cell_type": "markdown",
   "metadata": {},
   "source": [
    "(type in your response here)"
   ]
  },
  {
   "cell_type": "markdown",
   "metadata": {},
   "source": [
    "# WE MIGHT RUN OUT OF TIME, SO THIS IS AN APPROPRIATE PLACE TO STOP"
   ]
  },
  {
   "cell_type": "markdown",
   "metadata": {},
   "source": [
    "## OK. Let's try some more details in our local machines!\n",
    "- Download the [pretrained model](https://drive.google.com/open?id=10GXpuviDJVa-k8ZmiYX3BVABNDRaA6tg)\n",
    "- We are using [gensim](https://radimrehurek.com/gensim/) package this time"
   ]
  },
  {
   "cell_type": "code",
   "execution_count": 53,
   "metadata": {},
   "outputs": [
    {
     "name": "stdout",
     "output_type": "stream",
     "text": [
      "Collecting package metadata: done\n",
      "Solving environment: done\n",
      "\n",
      "## Package Plan ##\n",
      "\n",
      "  environment location: /anaconda3\n",
      "\n",
      "  added / updated specs:\n",
      "    - gensim\n",
      "\n",
      "\n",
      "The following packages will be downloaded:\n",
      "\n",
      "    package                    |            build\n",
      "    ---------------------------|-----------------\n",
      "    boto3-1.9.96               |             py_0          61 KB  conda-forge\n",
      "    botocore-1.12.96           |             py_0         3.2 MB  conda-forge\n",
      "    bz2file-0.98               |             py_0           9 KB  conda-forge\n",
      "    gensim-3.4.0               |   py37h1de35cc_0        21.5 MB\n",
      "    jmespath-0.9.3             |             py_1          19 KB  conda-forge\n",
      "    s3transfer-0.2.0           |           py37_0          88 KB  conda-forge\n",
      "    smart_open-1.8.0           |             py_0          38 KB  conda-forge\n",
      "    ------------------------------------------------------------\n",
      "                                           Total:        24.8 MB\n",
      "\n",
      "The following NEW packages will be INSTALLED:\n",
      "\n",
      "  boto3              conda-forge/noarch::boto3-1.9.96-py_0\n",
      "  botocore           conda-forge/noarch::botocore-1.12.96-py_0\n",
      "  bz2file            conda-forge/noarch::bz2file-0.98-py_0\n",
      "  gensim             pkgs/main/osx-64::gensim-3.4.0-py37h1de35cc_0\n",
      "  jmespath           conda-forge/noarch::jmespath-0.9.3-py_1\n",
      "  s3transfer         conda-forge/osx-64::s3transfer-0.2.0-py37_0\n",
      "  smart_open         conda-forge/noarch::smart_open-1.8.0-py_0\n",
      "\n",
      "\n",
      "\n",
      "Downloading and Extracting Packages\n",
      "bz2file-0.98         | 9 KB      | ##################################### | 100% \n",
      "jmespath-0.9.3       | 19 KB     | ##################################### | 100% \n",
      "s3transfer-0.2.0     | 88 KB     | ##################################### | 100% \n",
      "botocore-1.12.96     | 3.2 MB    | ##################################### | 100% \n",
      "boto3-1.9.96         | 61 KB     | ##################################### | 100% \n",
      "gensim-3.4.0         | 21.5 MB   | ##################################### | 100% \n",
      "smart_open-1.8.0     | 38 KB     | ##################################### | 100% \n",
      "Preparing transaction: done\n",
      "Verifying transaction: done\n",
      "Executing transaction: done\n"
     ]
    }
   ],
   "source": [
    "! conda install -y gensim"
   ]
  },
  {
   "cell_type": "code",
   "execution_count": 54,
   "metadata": {},
   "outputs": [],
   "source": [
    "import gensim"
   ]
  },
  {
   "cell_type": "code",
   "execution_count": 56,
   "metadata": {},
   "outputs": [],
   "source": [
    "# from https://github.com/eyaler/word2vec-slim\n",
    "w2v_mod = gensim.models.KeyedVectors.load_word2vec_format(\"~/Downloads/GoogleNews-vectors-negative300-SLIM.bin.gz\", binary=True)"
   ]
  },
  {
   "cell_type": "markdown",
   "metadata": {},
   "source": [
    "## 2-1. Calculating similarity between words"
   ]
  },
  {
   "cell_type": "markdown",
   "metadata": {},
   "source": [
    "- Q: What's similarity between *school* and *student*?"
   ]
  },
  {
   "cell_type": "markdown",
   "metadata": {},
   "source": [
    "- the word vector for *school* looks like this:"
   ]
  },
  {
   "cell_type": "code",
   "execution_count": 57,
   "metadata": {},
   "outputs": [
    {
     "data": {
      "text/plain": [
       "array([ 3.70471478e-02,  1.14410305e-02,  1.49575379e-02,  8.87546614e-02,\n",
       "        3.96226160e-02, -2.67452672e-02,  6.33961856e-02, -1.90188568e-02,\n",
       "       -1.89445645e-03, -3.68490331e-02,  1.01037674e-01,  1.85235739e-02,\n",
       "        2.69433800e-02, -4.00188453e-02, -4.29905392e-02,  4.31886539e-02,\n",
       "       -8.12263638e-02,  5.72051527e-03,  5.54716662e-02, -3.56603563e-02,\n",
       "        8.32074955e-02,  6.93395808e-02,  4.72994987e-03,  6.97358102e-02,\n",
       "        1.96874887e-03, -1.41848966e-01,  9.22464067e-04,  7.48867467e-02,\n",
       "        4.85377051e-02, -1.02028241e-02,  4.14056368e-02, -4.33867648e-02,\n",
       "        1.62452739e-02,  3.04598873e-03, -6.61697686e-02, -6.06226064e-02,\n",
       "        9.27169248e-02, -2.04056483e-02,  1.88207440e-02,  5.07169515e-02,\n",
       "        5.29952534e-03,  5.19056283e-02,  4.47735563e-02, -2.05047056e-02,\n",
       "        1.39669729e-02,  5.86414747e-02,  6.97358102e-02, -1.12924464e-02,\n",
       "       -4.49716710e-02,  9.31131542e-02, -4.75471430e-02, -4.95282710e-02,\n",
       "       -1.44251098e-03, -4.61603515e-02,  8.59810784e-02, -8.47924054e-02,\n",
       "       -4.23962027e-02,  1.78301781e-02, -5.00235567e-03, -6.45848662e-02,\n",
       "       -3.58584709e-02, -1.62452739e-02,  4.31886539e-02, -2.06037611e-02,\n",
       "        3.14999819e-02,  5.94339259e-02, -7.01320320e-02,  8.39999467e-02,\n",
       "        8.96461774e-03,  1.64433867e-02, -7.44905248e-02,  4.91320454e-02,\n",
       "        3.52641307e-02,  1.49575379e-02, -4.51697856e-02,  1.44226328e-01,\n",
       "        1.16490498e-01,  1.29392615e-03,  7.01320320e-02,  6.41886443e-02,\n",
       "        2.02075355e-02, -6.77546784e-02, -6.10188320e-02,  8.43961760e-02,\n",
       "        2.23867781e-02,  1.60471611e-02,  1.50565952e-02,  9.62829590e-02,\n",
       "        6.73584491e-02, -1.14905592e-02, -7.37971254e-03, -7.68678784e-02,\n",
       "       -5.54716634e-03, -6.22075088e-02, -7.23112794e-03,  3.82358246e-02,\n",
       "        6.45848662e-02,  2.57547013e-02, -2.53584757e-02,  2.91226245e-02,\n",
       "       -1.94150824e-02, -5.42334560e-03, -5.62641174e-02,  2.48631928e-02,\n",
       "       -8.83584395e-02, -3.38773392e-02,  5.24999667e-03,  2.25848928e-02,\n",
       "       -8.81603267e-03, -8.43961760e-02, -9.35093760e-02,  6.89433515e-02,\n",
       "       -1.36698028e-02, -1.83254611e-02,  6.69622272e-02, -1.02152058e-04,\n",
       "        2.71414928e-02, -2.02075355e-02, -5.74527942e-02, -6.57735467e-02,\n",
       "       -4.55660112e-02, -6.16627000e-03,  1.00542391e-02, -8.81603267e-03,\n",
       "       -2.41697971e-02, -1.83254611e-02, -3.34811136e-02, -5.50754406e-02,\n",
       "        1.24439783e-03,  3.32829989e-02,  3.68490331e-02, -1.44226328e-01,\n",
       "       -7.88490102e-02, -4.14056368e-02, -5.38867600e-02, -1.21344263e-02,\n",
       "        1.10448049e-02, -4.23215215e-06, -1.12924464e-02,  2.85282843e-02,\n",
       "       -1.44226328e-01, -1.44226328e-01,  5.26980832e-02,  1.85731018e-03,\n",
       "       -1.05990507e-02,  8.71697590e-02, -3.92263904e-02, -3.86320539e-02,\n",
       "       -9.01414547e-03,  1.92695938e-04,  1.64037645e-01, -7.21131638e-02,\n",
       "       -3.66509221e-02,  6.06226064e-02, -8.36037248e-02, -5.23018539e-02,\n",
       "        1.03811257e-01, -9.70754102e-02,  4.35848795e-02, -2.95188501e-02,\n",
       "       -9.23207030e-02,  4.61603515e-02,  8.28112736e-02,  7.92452320e-02,\n",
       "       -3.14999819e-02,  4.68042167e-03, -1.24811241e-02, -8.51886272e-02,\n",
       "        2.48631928e-02,  2.13962141e-02, -8.83584395e-02,  1.59481037e-02,\n",
       "        6.43867534e-03, -1.06981069e-01,  6.83490140e-03,  2.65471544e-02,\n",
       "        6.98348647e-03,  4.97263856e-02,  4.23466740e-03,  1.00245222e-01,\n",
       "       -1.28773507e-03,  2.35754568e-02,  6.93395827e-03,  1.98113080e-02,\n",
       "        3.44716758e-02,  5.20046847e-03, -3.48679051e-02, -2.55565885e-02,\n",
       "        9.15282443e-02,  3.74433734e-02,  2.95188501e-02, -3.66509221e-02,\n",
       "       -8.81603267e-03,  7.25093931e-02, -1.08565971e-01, -3.32829989e-02,\n",
       "        4.67546880e-02, -7.60754272e-02, -2.98407837e-03, -7.92452320e-03,\n",
       "       -4.29905392e-02, -8.91508907e-03,  8.67735296e-02, -1.14905588e-01,\n",
       "       -2.73396056e-02, -1.18867852e-01,  7.08254287e-03, -1.03018805e-01,\n",
       "       -2.03065909e-02, -5.78861684e-04,  3.62546965e-02, -6.14150576e-02,\n",
       "        7.21131638e-02, -1.45018786e-01, -1.32339537e-01,  1.31547093e-01,\n",
       "       -4.12075222e-02,  2.41697971e-02, -5.50754406e-02, -5.82452491e-02,\n",
       "       -5.05188368e-02, -3.74433734e-02,  1.01532955e-02,  5.94339259e-02,\n",
       "        4.99244966e-02,  1.10943327e-02, -1.04603708e-01,  4.59622368e-02,\n",
       "        3.11037544e-02, -1.49575379e-02,  8.43961760e-02,  3.20943221e-02,\n",
       "        2.02075355e-02,  6.53773174e-02,  8.61791894e-03,  3.40754502e-02,\n",
       "        3.68985627e-03, -7.84527808e-02,  6.58726040e-03, -1.19858421e-02,\n",
       "        2.85282843e-02, -2.14952696e-02,  9.35093760e-02, -3.54622416e-02,\n",
       "       -1.10943332e-01, -4.71509136e-02, -6.65659979e-02, -2.67452672e-02,\n",
       "        6.63678860e-03, -2.48879567e-03,  1.29764071e-02,  3.96226160e-02,\n",
       "        5.62641174e-02,  5.78490235e-02, -3.54622416e-02, -1.08565971e-01,\n",
       "        4.69528027e-02, -1.05495220e-02,  7.82546680e-03,  1.02226354e-01,\n",
       "        1.86226312e-02,  5.66603430e-02, -1.00245222e-01, -3.74433734e-02,\n",
       "        3.88301648e-02, -2.27830056e-02,  1.47594251e-02,  2.69433800e-02,\n",
       "       -1.89197995e-02,  2.42688525e-02,  4.12075222e-02, -1.90188568e-02,\n",
       "        3.68490331e-02,  8.47924054e-02, -3.16980928e-02, -1.02226354e-01,\n",
       "        1.24415018e-01, -1.27584830e-01, -2.46650800e-02, -1.25999928e-01,\n",
       "       -4.75471430e-02, -2.05047056e-02, -5.54716662e-02,  1.02226354e-01,\n",
       "       -7.76603296e-02, -1.98113092e-04, -3.78395990e-02,  7.96414614e-02,\n",
       "        6.14150576e-02,  1.21245213e-01, -4.37829942e-02, -9.70754120e-03,\n",
       "       -5.98301515e-02, -2.71414928e-02,  4.25943136e-02, -2.32782885e-02,\n",
       "       -4.29905392e-02, -5.07664774e-03,  3.68490331e-02,  4.87358198e-02],\n",
       "      dtype=float32)"
      ]
     },
     "execution_count": 57,
     "metadata": {},
     "output_type": "execute_result"
    }
   ],
   "source": [
    "w2v_mod['school']"
   ]
  },
  {
   "cell_type": "code",
   "execution_count": 58,
   "metadata": {},
   "outputs": [
    {
     "data": {
      "text/plain": [
       "300"
      ]
     },
     "execution_count": 58,
     "metadata": {},
     "output_type": "execute_result"
    }
   ],
   "source": [
    "len(w2v_mod['school'])"
   ]
  },
  {
   "cell_type": "markdown",
   "metadata": {},
   "source": [
    "- and the word vector for *student* looks like this:"
   ]
  },
  {
   "cell_type": "code",
   "execution_count": 59,
   "metadata": {},
   "outputs": [
    {
     "data": {
      "text/plain": [
       "array([ 0.01336551,  0.00730235,  0.08037006,  0.05629445,  0.06479172,\n",
       "        0.01141821,  0.11400511, -0.01221483,  0.0559404 , -0.1359564 ,\n",
       "        0.01849928, -0.04779717, -0.04337151, -0.05027555, -0.0073466 ,\n",
       "        0.00477972, -0.02442967, -0.02389859, -0.00907261, -0.05098365,\n",
       "        0.00783343,  0.06302146, -0.00064449, -0.03328099, -0.03540531,\n",
       "       -0.17844278, -0.04956744, -0.002069  ,  0.06160524,  0.0366445 ,\n",
       "        0.03416613, -0.03983098, -0.03080262,  0.01964995, -0.02372156,\n",
       "       -0.00610742,  0.04071611,  0.0506296 , -0.03009452,  0.08072411,\n",
       "       -0.08638897,  0.0426634 , -0.01672901,  0.03115668,  0.0619593 ,\n",
       "       -0.02496075,  0.01451618, -0.03752963,  0.05771066,  0.0179682 ,\n",
       "       -0.03947692, -0.05452418,  0.0054657 , -0.01964995,  0.0906376 ,\n",
       "       -0.03452018, -0.04284043,  0.04036206,  0.07435116, -0.03629045,\n",
       "        0.00610742, -0.03452018, -0.00111748, -0.00489036,  0.03363505,\n",
       "       -0.0306256 ,  0.03080262, -0.02009252,  0.05735661,  0.03823774,\n",
       "       -0.08391059,  0.02991749,  0.00533293, -0.07718358, -0.06479172,\n",
       "        0.1586158 ,  0.05275392, -0.00624019,  0.03115668, -0.00068874,\n",
       "        0.00982497, -0.04921339, -0.00654998,  0.07470521, -0.06160524,\n",
       "        0.00986923, -0.04567285,  0.11117268, -0.01106416,  0.09028355,\n",
       "       -0.04089314, -0.13454019, -0.0559404 , -0.06018903, -0.04301745,\n",
       "        0.02673101,  0.06514578,  0.09559435, -0.0089841 , -0.073289  ,\n",
       "        0.01301145, -0.03823774, -0.03274991, -0.13949694, -0.03469721,\n",
       "       -0.02044657, -0.05239986, -0.06018903,  0.08674302, -0.08497275,\n",
       "       -0.13808072, -0.05912687,  0.03611342,  0.00385033,  0.02991749,\n",
       "       -0.04071611, -0.02903236, -0.01079862,  0.05417013,  0.06337551,\n",
       "        0.02478372,  0.02708506, -0.01787968, -0.05098365,  0.0007247 ,\n",
       "        0.02903236,  0.03770666,  0.00924964,  0.0279702 ,  0.09205382,\n",
       "       -0.01885333, -0.10834026, -0.04744312, -0.03646747, -0.07541332,\n",
       "       -0.04160124,  0.04779717,  0.01761414, -0.12533481,  0.01363105,\n",
       "       -0.12958345, -0.07647548, -0.03310397,  0.02407561, -0.00893984,\n",
       "        0.08568086, -0.0179682 ,  0.10904837,  0.05417013,  0.01646347,\n",
       "        0.14870232,  0.01110842, -0.02071211,  0.01637496, -0.01318848,\n",
       "       -0.07576737,  0.03876882, -0.07116468,  0.05558634,  0.01513577,\n",
       "       -0.10550784,  0.00508951,  0.04372556,  0.08497275, -0.01708306,\n",
       "        0.06727009,  0.06443767, -0.05841877,  0.04708907, -0.01141821,\n",
       "       -0.01708306, -0.01088713,  0.02584588, -0.05771066,  0.0366445 ,\n",
       "        0.01699455,  0.06372956, -0.00042044, -0.01203781,  0.05523229,\n",
       "        0.04390259, -0.05239986,  0.05523229, -0.05983498,  0.0619593 ,\n",
       "        0.02088914,  0.02195129,  0.00564272,  0.00955943, -0.04638096,\n",
       "        0.05275392, -0.01283443, -0.02478372,  0.16074012, -0.15932392,\n",
       "       -0.03292694,  0.06089714, -0.07505926,  0.01128544, -0.01363105,\n",
       "       -0.0619593 ,  0.07718358,  0.03575937, -0.08072411, -0.0846187 ,\n",
       "       -0.12958345, -0.01128544, -0.06125119, -0.03292694, -0.05487823,\n",
       "        0.07789169, -0.04390259,  0.08886734, -0.1352483 , -0.09488624,\n",
       "        0.04372556, -0.03505126,  0.00955943, -0.02832425, -0.01947292,\n",
       "       -0.00482397, -0.10338352,  0.01726009, -0.01602091,  0.02885533,\n",
       "        0.08638897,  0.00840876, -0.02159724,  0.06727009, -0.01504726,\n",
       "        0.07647548,  0.04815122, -0.00242305,  0.06018903, -0.02903236,\n",
       "       -0.04390259,  0.01079862, -0.02460669, -0.00241199,  0.11046458,\n",
       "        0.14162125, -0.05523229, -0.02920938,  0.01469321, -0.04815122,\n",
       "       -0.02637696, -0.11683753,  0.00588613, -0.06833225,  0.06408362,\n",
       "       -0.01557834,  0.00435928,  0.01858779,  0.06018903, -0.03983098,\n",
       "       -0.07789169,  0.01593239,  0.04407962, -0.01911887,  0.05912687,\n",
       "        0.0226594 ,  0.00832025, -0.06762415, -0.11400511, -0.00433715,\n",
       "        0.00840876, -0.0066385 ,  0.06939442, -0.07435116, -0.00272178,\n",
       "        0.03593639, -0.03416613,  0.02257089,  0.08001601, -0.05700256,\n",
       "       -0.0619593 ,  0.00615167, -0.10621594, -0.02655398, -0.06833225,\n",
       "        0.00294307, -0.01787968, -0.04089314,  0.06974847, -0.04779717,\n",
       "        0.03788368, -0.06549983,  0.04301745,  0.1246267 ,  0.08851328,\n",
       "       -0.05487823, -0.04602691, -0.073289  , -0.03328099,  0.02097765,\n",
       "        0.06231335,  0.01389659,  0.04160124,  0.03558234,  0.0313337 ],\n",
       "      dtype=float32)"
      ]
     },
     "execution_count": 59,
     "metadata": {},
     "output_type": "execute_result"
    }
   ],
   "source": [
    "w2v_mod['student']"
   ]
  },
  {
   "cell_type": "markdown",
   "metadata": {},
   "source": [
    "- the similarity between two word vectors is:"
   ]
  },
  {
   "cell_type": "code",
   "execution_count": 60,
   "metadata": {},
   "outputs": [
    {
     "data": {
      "text/plain": [
       "0.605562749213432"
      ]
     },
     "execution_count": 60,
     "metadata": {},
     "output_type": "execute_result"
    }
   ],
   "source": [
    "w2v_mod.similarity('school', 'student')"
   ]
  },
  {
   "cell_type": "markdown",
   "metadata": {},
   "source": [
    "### Methods for measuring similarity"
   ]
  },
  {
   "cell_type": "markdown",
   "metadata": {},
   "source": [
    "<table>\n",
    "<tr>\n",
    "    <td><img src=\"https://nickgrattan.files.wordpress.com/2014/06/screenhunter_76-jun-10-08-36.jpg\" width=\"400\"></td>\n",
    "    <td><img src=\"https://nickgrattan.files.wordpress.com/2014/06/screenhunter_77-jun-10-08-36.jpg\" width=\"400\"></td>\n",
    "    <td><img src=\"https://nickgrattan.files.wordpress.com/2014/06/screenhunter_77-jun-10-08-37.jpg\" width=\"400\"></td>\n",
    "</tr>\n",
    "</table>"
   ]
  },
  {
   "cell_type": "code",
   "execution_count": 61,
   "metadata": {},
   "outputs": [],
   "source": [
    "# (image from http://blog.christianperone.com/2013/09/machine-learning-cosine-similarity-for-vector-space-models-part-iii/)"
   ]
  },
  {
   "cell_type": "markdown",
   "metadata": {},
   "source": [
    "![](http://blog.christianperone.com/wp-content/uploads/2013/09/cosinesimilarityfq1.png)"
   ]
  },
  {
   "cell_type": "markdown",
   "metadata": {},
   "source": [
    "- Cosine simiarity can go from -1 to 1\n",
    "- But usually, we deal with 0 to 1 scores for comparing words in ```Word2Vec```"
   ]
  },
  {
   "cell_type": "markdown",
   "metadata": {},
   "source": [
    "### <font color='red'> Q7a. What's the cosine similarity between *school* and *tiger*? </font>\n",
    "- How would you interprete the results?"
   ]
  },
  {
   "cell_type": "markdown",
   "metadata": {},
   "source": [
    "(type in your response here)"
   ]
  },
  {
   "cell_type": "code",
   "execution_count": 62,
   "metadata": {},
   "outputs": [],
   "source": [
    "# put your code here"
   ]
  },
  {
   "cell_type": "code",
   "execution_count": 63,
   "metadata": {},
   "outputs": [
    {
     "data": {
      "text/plain": [
       "0.08660267014184596"
      ]
     },
     "execution_count": 63,
     "metadata": {},
     "output_type": "execute_result"
    }
   ],
   "source": [
    "w2v_mod.similarity('school', 'tiger')"
   ]
  },
  {
   "cell_type": "markdown",
   "metadata": {},
   "source": [
    "### <font color='red'> Q7b. Try some other words. Any other interesting findings? </font>\n",
    "- Give 3 more examples.\n",
    "- How would you interprete the results?"
   ]
  },
  {
   "cell_type": "code",
   "execution_count": 64,
   "metadata": {},
   "outputs": [],
   "source": [
    "# put your code here"
   ]
  },
  {
   "cell_type": "code",
   "execution_count": 65,
   "metadata": {},
   "outputs": [
    {
     "data": {
      "text/plain": [
       "0.6510956833222199"
      ]
     },
     "execution_count": 65,
     "metadata": {},
     "output_type": "execute_result"
    }
   ],
   "source": [
    "w2v_mod.similarity('queen', 'king')"
   ]
  },
  {
   "cell_type": "code",
   "execution_count": 66,
   "metadata": {},
   "outputs": [
    {
     "data": {
      "text/plain": [
       "0.7609457072663728"
      ]
     },
     "execution_count": 66,
     "metadata": {},
     "output_type": "execute_result"
    }
   ],
   "source": [
    "w2v_mod.similarity('cat', 'dog')"
   ]
  },
  {
   "cell_type": "code",
   "execution_count": 67,
   "metadata": {},
   "outputs": [
    {
     "data": {
      "text/plain": [
       "0.4618970990005372"
      ]
     },
     "execution_count": 67,
     "metadata": {},
     "output_type": "execute_result"
    }
   ],
   "source": [
    "w2v_mod.similarity('Python', 'Java')"
   ]
  },
  {
   "cell_type": "markdown",
   "metadata": {},
   "source": [
    "(type in your response here)"
   ]
  },
  {
   "cell_type": "markdown",
   "metadata": {},
   "source": [
    "## 2-2. Analogy from word vectors"
   ]
  },
  {
   "cell_type": "markdown",
   "metadata": {},
   "source": [
    "<img src=\"https://www.tensorflow.org/images/linear-relationships.png\" width=\"800\">"
   ]
  },
  {
   "cell_type": "markdown",
   "metadata": {},
   "source": [
    "#### Can we approximate the relationship between words by doing - and + operations?"
   ]
  },
  {
   "cell_type": "markdown",
   "metadata": {},
   "source": [
    "- $woman - man + king \\approx ?$\n",
    "- How this works?\n",
    "    - $woman:man \\approx x:king $\n",
    "    - $\\rightarrow woman - man \\approx x - king $\n",
    "    - $\\rightarrow woman - man + king \\approx x$\n",
    "    - List top-10 words ($x$) that can solve the equation!"
   ]
  },
  {
   "cell_type": "code",
   "execution_count": 68,
   "metadata": {},
   "outputs": [
    {
     "data": {
      "text/plain": [
       "[('queen', 0.7118192911148071),\n",
       " ('monarch', 0.6189674735069275),\n",
       " ('princess', 0.5902431607246399),\n",
       " ('prince', 0.5377322435379028),\n",
       " ('kings', 0.5236844420433044),\n",
       " ('queens', 0.5181134343147278),\n",
       " ('sultan', 0.5098593235015869),\n",
       " ('monarchy', 0.5087411999702454),\n",
       " ('throne', 0.5005807280540466),\n",
       " ('royal', 0.4938204884529114)]"
      ]
     },
     "execution_count": 68,
     "metadata": {},
     "output_type": "execute_result"
    }
   ],
   "source": [
    "w2v_mod.most_similar(positive=['woman', 'king'], negative=['man'])"
   ]
  },
  {
   "cell_type": "markdown",
   "metadata": {},
   "source": [
    "- $Spain - Germany + Berlin \\approx ?$\n",
    "    - $\\rightarrow Spain - Germany \\approx x -  Berlin $"
   ]
  },
  {
   "cell_type": "code",
   "execution_count": 69,
   "metadata": {},
   "outputs": [
    {
     "data": {
      "text/plain": [
       "[('Madrid', 0.717348039150238),\n",
       " ('Barcelona', 0.5742595791816711),\n",
       " ('Malaga', 0.5547429323196411),\n",
       " ('Bilbao', 0.5404423475265503),\n",
       " ('Lisbon', 0.5366039276123047),\n",
       " ('Seville', 0.5312415361404419),\n",
       " ('Paris', 0.5251091718673706),\n",
       " ('Catalan', 0.5213973522186279),\n",
       " ('Rome', 0.5174577832221985),\n",
       " ('Bogota', 0.5146557688713074)]"
      ]
     },
     "execution_count": 69,
     "metadata": {},
     "output_type": "execute_result"
    }
   ],
   "source": [
    "w2v_mod.most_similar(positive=['Spain', 'Berlin'], negative=['Germany'])"
   ]
  },
  {
   "cell_type": "markdown",
   "metadata": {},
   "source": [
    "### <font color='red'> Q8. Any other interesting examples? </font>\n",
    "- Give another.\n",
    "- How would you interprete the results?"
   ]
  },
  {
   "cell_type": "markdown",
   "metadata": {},
   "source": [
    "(type in your response here)"
   ]
  },
  {
   "cell_type": "code",
   "execution_count": 70,
   "metadata": {},
   "outputs": [],
   "source": [
    "# put your code here"
   ]
  },
  {
   "cell_type": "code",
   "execution_count": 71,
   "metadata": {},
   "outputs": [
    {
     "data": {
      "text/plain": [
       "[('swim', 0.5092536211013794),\n",
       " ('swimming', 0.5009890794754028),\n",
       " ('swims', 0.4770849943161011),\n",
       " ('woken', 0.4747048616409302),\n",
       " ('swum', 0.4533485770225525),\n",
       " ('awaking', 0.44691938161849976),\n",
       " ('wakes', 0.4464690089225769),\n",
       " ('Waking', 0.44536274671554565),\n",
       " ('swimmers', 0.4332885146141052),\n",
       " ('woke', 0.4221966564655304)]"
      ]
     },
     "execution_count": 71,
     "metadata": {},
     "output_type": "execute_result"
    }
   ],
   "source": [
    "w2v_mod.most_similar(positive=['waking', 'swam'], negative=['walked'])"
   ]
  }
 ],
 "metadata": {
  "kernelspec": {
   "display_name": "Python 3",
   "language": "python",
   "name": "python3"
  },
  "language_info": {
   "codemirror_mode": {
    "name": "ipython",
    "version": 3
   },
   "file_extension": ".py",
   "mimetype": "text/x-python",
   "name": "python",
   "nbconvert_exporter": "python",
   "pygments_lexer": "ipython3",
   "version": "3.7.1"
  },
  "toc-autonumbering": false,
  "toc-showcode": false,
  "toc-showmarkdowntxt": false,
  "toc-showtags": false
 },
 "nbformat": 4,
 "nbformat_minor": 2
}
